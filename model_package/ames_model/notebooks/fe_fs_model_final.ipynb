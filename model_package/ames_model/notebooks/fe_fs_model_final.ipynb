{
 "cells": [
  {
   "cell_type": "markdown",
   "id": "5e8b9aae-d4d5-41c5-ab4e-0380dabdb937",
   "metadata": {
    "tags": []
   },
   "source": [
    "# House prices regression pt.2\n",
    "\n",
    "1) Data preprocessing iteration: Manually iterate to find a pipeline of feature engineering, feature selection and modeling that performs achieves a decent cross validation metric score and is production friendly.\n",
    "    - Baseline model\n",
    "    - Preprocess towards linear model. Test on both linear and tree model.\n",
    "    - Preprocess towards non-linear model if tree model looked more promising in the previous step\n",
    "2) Modeling and Hyperparameter optimisation: Run hyperparameter tuning to squeeze out some more performance from the models"
   ]
  },
  {
   "cell_type": "code",
   "execution_count": 1,
   "id": "fa075c88-e2f2-4c52-8a0f-c5fa1fb4f640",
   "metadata": {},
   "outputs": [],
   "source": [
    "import importlib\n",
    "import pandas as pd\n",
    "import numpy as np\n",
    "import matplotlib.pyplot as plt\n",
    "import seaborn as sns\n",
    "\n",
    "# feature engineering\n",
    "import preprocessors as pp\n",
    "from scipy.stats import skew\n",
    "from sklearn.model_selection import train_test_split\n",
    "from sklearn.pipeline import Pipeline\n",
    "from sklearn.preprocessing import StandardScaler\n",
    "from feature_engine import imputation as mdi\n",
    "from feature_engine import discretisation as dsc\n",
    "from feature_engine import encoding as ce\n",
    "from feature_engine import selection as sel\n",
    "from feature_engine import transformation as trans\n",
    "from feature_engine import wrappers as wrap\n",
    "\n",
    "# modeling\n",
    "import random\n",
    "from sklearn.metrics import mean_squared_error, r2_score\n",
    "from sklearn.feature_selection import SelectFromModel\n",
    "from sklearn.model_selection import cross_val_score, cross_validate, KFold\n",
    "from sklearn.dummy import DummyRegressor\n",
    "from sklearn.linear_model import LinearRegression, Lasso, LassoCV\n",
    "from sklearn.tree import DecisionTreeRegressor\n",
    "from sklearn.ensemble import RandomForestRegressor, GradientBoostingRegressor\n",
    "from xgboost import XGBRegressor\n",
    "from lightgbm import LGBMRegressor\n",
    "\n",
    "import optuna\n",
    "\n",
    "SEED = 0\n",
    "\n",
    "import warnings\n",
    "warnings.filterwarnings(\"ignore\")"
   ]
  },
  {
   "cell_type": "code",
   "execution_count": 2,
   "id": "d678b24b-7b07-4e3e-9e9c-069b1876d09f",
   "metadata": {},
   "outputs": [],
   "source": [
    "data = pd.read_csv(\"../data/train.csv\", index_col=False)"
   ]
  },
  {
   "cell_type": "code",
   "execution_count": 3,
   "id": "34056baa-abcf-491c-bb8e-0d3fda900ce8",
   "metadata": {},
   "outputs": [],
   "source": [
    "train, test = train_test_split(data, test_size=0.1, random_state=SEED)"
   ]
  },
  {
   "cell_type": "code",
   "execution_count": 4,
   "id": "cab94c13-3d58-4dfb-8853-dbdc48155106",
   "metadata": {},
   "outputs": [],
   "source": [
    "X_train, y_train, X_test, y_test = train.drop('SalePrice', axis=1), train['SalePrice'], test.drop('SalePrice', axis=1), test['SalePrice']"
   ]
  },
  {
   "cell_type": "code",
   "execution_count": 12,
   "id": "4f70efbb-8e9a-44e5-9db1-f1f70b963c53",
   "metadata": {},
   "outputs": [],
   "source": [
    "X_test.dtypes.sort_index().reset_index().to_csv('types.csv')"
   ]
  },
  {
   "cell_type": "code",
   "execution_count": 6,
   "id": "3b8ee697-f676-4b91-ad04-5940158ce72a",
   "metadata": {},
   "outputs": [],
   "source": [
    "def plot_rmse(score_dict):\n",
    "    score_df = pd.DataFrame(score_dict)\n",
    "    score_df[['test_score', 'train_score']] = score_df[['test_score', 'train_score']].apply(lambda x: np.sqrt(-x))\n",
    "    score_df[['train_score', 'test_score']].plot(kind='box', figsize=(5, 4))"
   ]
  },
  {
   "cell_type": "markdown",
   "id": "9b73451e-031c-47a7-848c-4ab98c9d064e",
   "metadata": {},
   "source": [
    "## Baseline"
   ]
  },
  {
   "cell_type": "code",
   "execution_count": 7,
   "id": "2b5d1e9c-c30d-4e2e-b196-650c1f95b0f3",
   "metadata": {},
   "outputs": [
    {
     "name": "stdout",
     "output_type": "stream",
     "text": [
      "mean: 0.4021666517932202\n"
     ]
    },
    {
     "data": {
      "image/png": "[encoded data removed]",
      "text/plain": [
       "<Figure size 500x400 with 1 Axes>"
      ]
     },
     "metadata": {},
     "output_type": "display_data"
    }
   ],
   "source": [
    "dummy = DummyRegressor().fit(X_train, y_train)\n",
    "dummy_score = cross_validate(dummy, X_train, np.log(1+y_train), \n",
    "                             scoring='neg_mean_squared_error',\n",
    "                             return_train_score=True)\n",
    "\n",
    "print(f\"mean: {np.sqrt(-dummy_score['test_score']).mean()}\")\n",
    "plot_rmse(dummy_score)"
   ]
  },
  {
   "cell_type": "markdown",
   "id": "4915dedc-9f63-427c-8029-3ed5ba76f1a6",
   "metadata": {},
   "source": [
    "## Data cleaning"
   ]
  },
  {
   "cell_type": "code",
   "execution_count": 8,
   "id": "1119eae1-ebf6-46a0-8906-11e5693aa78a",
   "metadata": {},
   "outputs": [],
   "source": [
    "cat_vars = [var for var in train.columns if train[var].dtype == 'object']\n",
    "cat_vars += ['MSSubClass']\n",
    "\n",
    "num_vars = [\n",
    "    var for var in train.columns if var not in cat_vars and var != 'SalePrice' and var!= 'Id'\n",
    "]\n",
    "year_vars = [var for var in num_vars if 'Yr' in var or 'Year' in var]\n",
    "\n",
    "discrete_vars = [var for var in num_vars if (train[var].nunique() < 20) \n",
    "                 and var not in year_vars]\n",
    "\n",
    "cont_vars = [var for var in num_vars if var not in discrete_vars and var not in year_vars]\n",
    "\n",
    "discrete_vars.remove('MoSold')\n",
    "num_vars.remove('MoSold')\n",
    "cat_vars.append('MoSold')\n",
    "\n",
    "binarise_vars = [\n",
    "    'BsmtFinSF2', 'LowQualFinSF', 'EnclosedPorch', 'ScreenPorch', 'MiscVal'\n",
    "]"
   ]
  },
  {
   "cell_type": "code",
   "execution_count": 9,
   "id": "cf13ff94-a494-4143-8a27-8286b11493c9",
   "metadata": {},
   "outputs": [],
   "source": [
    "# impute\n",
    "\n",
    "# numerical\n",
    "impute_zero_vars = ['MasVnrArea']\n",
    "impute_from_other_vars = ['GarageYrBlt']\n",
    "impute_median_vars = [var for var in num_vars if var not in impute_zero_vars+impute_from_other_vars]\n",
    "\n",
    "\n",
    "# categorical\n",
    "impute_none_vars = [\n",
    "    'Alley', 'BsmtQual', 'BsmtCond', 'BsmtExposure', 'BsmtFinType1',\n",
    "    'BsmtFinType2', 'FireplaceQu', 'GarageType', 'GarageFinish', \n",
    "    'GarageQual', 'GarageCond', 'PoolQC', 'Fence', 'MiscFeature'\n",
    "]\n",
    "             \n",
    "impute_mode_vars = [var for var in cat_vars if var not in impute_none_vars]"
   ]
  },
  {
   "cell_type": "code",
   "execution_count": 10,
   "id": "41db87b5-480e-408b-937f-3167f00e97af",
   "metadata": {},
   "outputs": [],
   "source": [
    "train[impute_zero_vars+impute_from_other_vars+impute_median_vars] = train[impute_zero_vars+impute_from_other_vars+impute_median_vars].astype('float')\n",
    "train[impute_none_vars+impute_mode_vars] = train[impute_none_vars+impute_mode_vars].astype('object')"
   ]
  },
  {
   "cell_type": "code",
   "execution_count": 11,
   "id": "3408def5-6e5a-496c-ac5f-ac99d12e254a",
   "metadata": {},
   "outputs": [],
   "source": [
    "fe1_pipeline = Pipeline([\n",
    "    ('impute_none', mdi.CategoricalImputer(fill_value='None', variables=impute_none_vars, return_object=True, ignore_format=True)),\n",
    "    ('impute_mode', mdi.CategoricalImputer(fill_value='Missing', variables=impute_mode_vars, return_object=True, ignore_format=True)),\n",
    "    ('impute_zero', mdi.ArbitraryNumberImputer(arbitrary_number=0, variables=impute_zero_vars)),\n",
    "    ('impute_median', mdi.MeanMedianImputer(variables=impute_median_vars)),\n",
    "    ('impute_from_other_vars', pp.UseOtherColumnsImputer(variables=impute_from_other_vars, references=['YearBuilt'])),\n",
    "    ('create', pp.FeatureCreator())\n",
    "])"
   ]
  },
  {
   "cell_type": "markdown",
   "id": "715750e6-5b4b-4761-a0db-9063ccdaf5cd",
   "metadata": {},
   "source": [
    "Test the preprocessing"
   ]
  },
  {
   "cell_type": "code",
   "execution_count": 12,
   "id": "3eca7c1e-1a6a-4ea5-9fa7-0c9222bd8ae2",
   "metadata": {},
   "outputs": [],
   "source": [
    "train_cleaned = fe1_pipeline.fit_transform(train)"
   ]
  },
  {
   "cell_type": "code",
   "execution_count": 13,
   "id": "bc73f07b-ec41-4e59-b0e7-52847623e026",
   "metadata": {},
   "outputs": [
    {
     "data": {
      "text/plain": [
       "0"
      ]
     },
     "execution_count": 13,
     "metadata": {},
     "output_type": "execute_result"
    }
   ],
   "source": [
    "train_cleaned.isna().sum().sum()"
   ]
  },
  {
   "cell_type": "code",
   "execution_count": 14,
   "id": "97f42570-2ed2-4619-9089-fa69aad0b225",
   "metadata": {},
   "outputs": [
    {
     "data": {
      "text/plain": [
       "object     45\n",
       "float64    39\n",
       "int64       2\n",
       "int32       1\n",
       "Name: count, dtype: int64"
      ]
     },
     "execution_count": 14,
     "metadata": {},
     "output_type": "execute_result"
    }
   ],
   "source": [
    "train_cleaned.dtypes.value_counts()"
   ]
  },
  {
   "cell_type": "markdown",
   "id": "7dd59a04-1610-4043-ae16-2c109af17055",
   "metadata": {
    "tags": []
   },
   "source": [
    "## Data transformation"
   ]
  },
  {
   "cell_type": "code",
   "execution_count": 15,
   "id": "d2037efe-48ab-4616-b3c6-7e7fd3df710a",
   "metadata": {},
   "outputs": [],
   "source": [
    "discrete_vars_dt = discrete_vars + ['TotBathrooms', 'TotRms']\n",
    "cont_vars_dt =  cont_vars + ['TotalSF', 'TotPorchSF', 'TotLivArea'] + year_vars[:-1] # exclude yrsold\n",
    "cat_vars_dt = cat_vars + ['IsNew']"
   ]
  },
  {
   "cell_type": "code",
   "execution_count": 16,
   "id": "babf3715-9759-4550-9e63-23fbfbb35c6a",
   "metadata": {},
   "outputs": [],
   "source": [
    "num_vars_dt = discrete_vars_dt+cont_vars_dt"
   ]
  },
  {
   "cell_type": "code",
   "execution_count": 17,
   "id": "37029a41-dac6-4cd8-aa6c-d02aec709270",
   "metadata": {},
   "outputs": [],
   "source": [
    "num_vars_skewed_dt = train_cleaned[num_vars_dt].apply(skew)\n",
    "num_vars_skewed_dt = num_vars_skewed_dt[num_vars_skewed_dt > 0.75]\n",
    "num_vars_skewed_dt = num_vars_skewed_dt.index.tolist()"
   ]
  },
  {
   "cell_type": "code",
   "execution_count": 18,
   "id": "2c8a2c61-cb3f-44cc-bd6f-1cd23f3fe77c",
   "metadata": {},
   "outputs": [],
   "source": [
    "cont_vars_skewed_dt = train_cleaned[cont_vars_dt].apply(skew)\n",
    "cont_vars_skewed_dt = cont_vars_skewed_dt[cont_vars_skewed_dt > 0.75]\n",
    "cont_vars_skewed_dt = cont_vars_skewed_dt.index.tolist()\n",
    "\n",
    "cont_vars_less_skewed_dt = [\n",
    "    var for var in cont_vars_dt if var not in cont_vars_skewed_dt\n",
    "]"
   ]
  },
  {
   "cell_type": "code",
   "execution_count": 19,
   "id": "e2442400-5b5a-4b98-b6fa-50c6f0a4dec4",
   "metadata": {},
   "outputs": [
    {
     "data": {
      "text/plain": [
       "['Id', 'YrSold', 'SalePrice']"
      ]
     },
     "execution_count": 19,
     "metadata": {},
     "output_type": "execute_result"
    }
   ],
   "source": [
    "[var for var in train_cleaned.columns if var not in discrete_vars_dt+cont_vars_skewed_dt+cont_vars_less_skewed_dt+cat_vars_dt]"
   ]
  },
  {
   "cell_type": "markdown",
   "id": "1971076a-32a1-46e6-8a9e-14ba01b3a3b5",
   "metadata": {},
   "source": [
    "Test the preprocessing"
   ]
  },
  {
   "cell_type": "code",
   "execution_count": 20,
   "id": "1a4c15c9-548d-4dda-aebf-623102ad717d",
   "metadata": {},
   "outputs": [],
   "source": [
    "# fe2_pipeline = Pipeline([    \n",
    "#     ('log', pp.Log1P(variables=cont_vars_skewed_dt)),\n",
    "#     ('binariser', pp.Binariser(binarise_vars)),\n",
    "#     ('rare_encoder', ce.RareLabelEncoder(tol=0.05, n_categories=1, variables=cat_vars_dt+discrete_vars_dt, ignore_format=True)), # tol is a hyperp\n",
    "#     ('ohe', ce.OneHotEncoder(variables=cat_vars_dt+discrete_vars_dt, ignore_format=True)),\n",
    "#     ('scale', wrap.SklearnTransformerWrapper(StandardScaler(), variables=cont_vars_dt))\n",
    "# ])"
   ]
  },
  {
   "cell_type": "code",
   "execution_count": 21,
   "id": "972310a5-bb07-4812-a98c-74a1725a9d47",
   "metadata": {},
   "outputs": [],
   "source": [
    "# total_pipeline = Pipeline([\n",
    "#     ('fe1', fe1_pipeline),\n",
    "#     ('fe2', fe2_pipeline)\n",
    "# ])"
   ]
  },
  {
   "cell_type": "code",
   "execution_count": 22,
   "id": "1411aa18-3413-4e3b-92a8-1bfb5f532221",
   "metadata": {
    "tags": []
   },
   "outputs": [],
   "source": [
    "# # 94 in total, as expected\n",
    "# train_after_fe = total_pipeline.fit_transform(train)"
   ]
  },
  {
   "cell_type": "code",
   "execution_count": 23,
   "id": "9b37bc3e-4157-49d2-8502-e8be3d015f18",
   "metadata": {
    "tags": []
   },
   "outputs": [],
   "source": [
    "# train_after_fe[cont_less_skewed_vars].hist(figsize=(15, 15));"
   ]
  },
  {
   "cell_type": "code",
   "execution_count": 24,
   "id": "a64b1ed9-f032-4a51-b8f0-21dd558848e2",
   "metadata": {
    "tags": []
   },
   "outputs": [],
   "source": [
    "# train_after_fe[cont_skewed_vars].hist(figsize=(10, 5));"
   ]
  },
  {
   "cell_type": "markdown",
   "id": "6f32e75b-1a42-4544-9eab-42b9bfa57e6c",
   "metadata": {
    "tags": []
   },
   "source": [
    "## Feature selection\n",
    "\n",
    "1) Drop id, yrsold\n",
    "2) Remove constants, duplicates\n",
    "3) Select variables via importance"
   ]
  },
  {
   "cell_type": "code",
   "execution_count": 25,
   "id": "24fcb28f-c928-4595-858f-d1568486f144",
   "metadata": {},
   "outputs": [],
   "source": [
    "# fs_pipeline = Pipeline([\n",
    "#     ('drop', sel.DropFeatures(['Id', 'YrSold'])),\n",
    "#     ('constant', sel.DropConstantFeatures()),\n",
    "#     ('duplicates', sel.DropDuplicateFeatures()),\n",
    "#     ('correl', sel.SmartCorrelatedSelection(estimator=LinearRegression()))\n",
    "# ])"
   ]
  },
  {
   "cell_type": "code",
   "execution_count": 26,
   "id": "07f6c0fa-3a64-45b6-9a6d-d733a3afcb7f",
   "metadata": {},
   "outputs": [],
   "source": [
    "# total_pipeline = Pipeline([\n",
    "#     ('fe1', fe1_pipeline),\n",
    "#     ('fe2', fe2_pipeline),\n",
    "#     ('fs', fs_pipeline)\n",
    "# ])"
   ]
  },
  {
   "cell_type": "markdown",
   "id": "2f6fc1c4-f4fd-4c4a-9e96-53355154646c",
   "metadata": {},
   "source": [
    "Test the preprocessing"
   ]
  },
  {
   "cell_type": "code",
   "execution_count": 27,
   "id": "ad0f5a40-a7fa-4cce-bda8-afad02bac6c7",
   "metadata": {
    "tags": []
   },
   "outputs": [],
   "source": [
    "# # works!\n",
    "# tmp_total_pipe = total_pipeline.fit_transform(X_train, y_train)"
   ]
  },
  {
   "cell_type": "markdown",
   "id": "fe7c7275-aa11-4fc1-87ea-e775f7b80c0b",
   "metadata": {},
   "source": [
    "## Feature engineering testing\n",
    "\n",
    "Edit the pipeline whenever necessary to remove bugs or improve on baseline model(s) performance "
   ]
  },
  {
   "cell_type": "code",
   "execution_count": 20,
   "id": "b094b0f8-6517-4e43-a072-0a3f65aae437",
   "metadata": {},
   "outputs": [],
   "source": [
    "fc_pipeline = Pipeline([\n",
    "    ('impute_none', mdi.CategoricalImputer(fill_value='None', variables=impute_none_vars, return_object=True, ignore_format=True)),\n",
    "    ('impute_missing', mdi.CategoricalImputer(fill_value='Missing', variables=impute_mode_vars, return_object=True, ignore_format=True)),\n",
    "    ('impute_zero', mdi.ArbitraryNumberImputer(arbitrary_number=0, variables=impute_zero_vars)),\n",
    "    ('impute_median', mdi.MeanMedianImputer(variables=impute_median_vars)),\n",
    "    ('impute_from_other_vars', pp.UseOtherColumnsImputer(variables=impute_from_other_vars, references=['YearBuilt'])),\n",
    "    ('create', pp.FeatureCreator())\n",
    "])\n",
    "\n",
    "dt_pipeline = Pipeline([\n",
    "    ('log', trans.LogCpTransformer(variables=cont_vars_skewed_dt, C=1)),\n",
    "    ('binariser', pp.Binariser(binarise_vars)),\n",
    "    ('rare_encoder', ce.RareLabelEncoder(tol=0.05, n_categories=1, variables=cat_vars_dt+discrete_vars_dt, ignore_format=True)), # tol is a hyperp\n",
    "    ('ohe', ce.OneHotEncoder(variables=cat_vars_dt+discrete_vars_dt, ignore_format=True)),\n",
    "    ('scale', wrap.SklearnTransformerWrapper(StandardScaler(), variables=cont_vars_dt))\n",
    "])\n",
    "\n",
    "fs_pipeline = Pipeline([\n",
    "    ('drop', sel.DropFeatures(['Id', 'YrSold'])),\n",
    "    ('constant', sel.DropConstantFeatures()),\n",
    "    ('duplicates', sel.DropDuplicateFeatures()),\n",
    "    ('correl', sel.SmartCorrelatedSelection(selection_method='model_performance', \n",
    "                                            estimator=LinearRegression(),\n",
    "                                            scoring='neg_mean_squared_error'))\n",
    "])"
   ]
  },
  {
   "cell_type": "code",
   "execution_count": 21,
   "id": "58225010-0dcf-4ac6-8546-c96e61345b6f",
   "metadata": {
    "tags": []
   },
   "outputs": [],
   "source": [
    "total_pipeline = Pipeline([\n",
    "    ('fc', fc_pipeline),\n",
    "    ('dt', dt_pipeline),\n",
    "    ('fs', fs_pipeline)\n",
    "])"
   ]
  },
  {
   "cell_type": "code",
   "execution_count": 22,
   "id": "ee707865-5ec3-4c8d-a6e7-dc8b2e647d85",
   "metadata": {},
   "outputs": [],
   "source": [
    "X_train[impute_zero_vars+impute_from_other_vars+impute_median_vars] = X_train[impute_zero_vars+impute_from_other_vars+impute_median_vars].astype('float')\n",
    "X_train[impute_none_vars+impute_mode_vars] = X_train[impute_none_vars+impute_mode_vars].astype('object')"
   ]
  },
  {
   "cell_type": "code",
   "execution_count": 23,
   "id": "c097b131-3b9b-40bd-9791-faf1c28228fe",
   "metadata": {
    "tags": []
   },
   "outputs": [],
   "source": [
    "# tmp = total_pipeline.fit_transform(X_train, y_train)"
   ]
  },
  {
   "cell_type": "code",
   "execution_count": 24,
   "id": "6d20b075-177e-4f2b-9df1-178f0b7a1c24",
   "metadata": {},
   "outputs": [],
   "source": [
    "# tmp.isna().sum().sum()"
   ]
  },
  {
   "cell_type": "code",
   "execution_count": 33,
   "id": "50c205cc-5b7e-4f87-a0f5-b4ef47769172",
   "metadata": {},
   "outputs": [],
   "source": [
    "# len(tmp.columns)"
   ]
  },
  {
   "cell_type": "code",
   "execution_count": 34,
   "id": "72850cfc-bd9a-4c1b-87d8-bf016b2b36a7",
   "metadata": {},
   "outputs": [],
   "source": [
    "# tmp.sample(random_state=SEED)"
   ]
  },
  {
   "cell_type": "markdown",
   "id": "9fca4f9c-d864-4874-a58c-29147f2c8513",
   "metadata": {},
   "source": [
    "Try out baselines first"
   ]
  },
  {
   "cell_type": "code",
   "execution_count": 25,
   "id": "b8034d41-4873-42b6-967c-5b5058345f8d",
   "metadata": {
    "tags": []
   },
   "outputs": [
    {
     "name": "stdout",
     "output_type": "stream",
     "text": [
      "mean: 0.1519327208116304\n"
     ]
    },
    {
     "data": {
      "image/png": "[encoded data removed]",
      "text/plain": [
       "<Figure size 500x400 with 1 Axes>"
      ]
     },
     "metadata": {},
     "output_type": "display_data"
    }
   ],
   "source": [
    "lr_pipeline = Pipeline([\n",
    "    ('total', total_pipeline),\n",
    "    ('model', LinearRegression())\n",
    "])\n",
    "\n",
    "lr_score = cross_validate(lr_pipeline, X_train, np.log(1+y_train),\n",
    "                          scoring='neg_mean_squared_error',\n",
    "                          return_train_score=True)\n",
    "\n",
    "print(f\"mean: {np.sqrt(-lr_score['test_score']).mean()}\")\n",
    "plot_rmse(lr_score)"
   ]
  },
  {
   "cell_type": "code",
   "execution_count": 26,
   "id": "a0b9c847-b5c4-42be-86b1-5bbff409a75e",
   "metadata": {
    "tags": []
   },
   "outputs": [
    {
     "name": "stdout",
     "output_type": "stream",
     "text": [
      "mean: 0.21832946757406776\n"
     ]
    },
    {
     "data": {
      "image/png": "[encoded data removed]",
      "text/plain": [
       "<Figure size 500x400 with 1 Axes>"
      ]
     },
     "metadata": {},
     "output_type": "display_data"
    }
   ],
   "source": [
    "dt_pipeline = Pipeline([\n",
    "    ('total', total_pipeline),\n",
    "    ('model', DecisionTreeRegressor(random_state=0))\n",
    "])\n",
    "\n",
    "dt_score = cross_validate(dt_pipeline, X_train, np.log(1+y_train), \n",
    "                          scoring='neg_mean_squared_error',\n",
    "                          return_train_score=True)\n",
    "plot_rmse(dt_score)\n",
    "print(f\"mean: {np.sqrt(-dt_score['test_score']).mean()}\")"
   ]
  },
  {
   "cell_type": "markdown",
   "id": "d8b7d6a5-5be8-4a07-b5d8-375ec8de3888",
   "metadata": {},
   "source": [
    "Let's try other models to improve on the baselines"
   ]
  },
  {
   "cell_type": "code",
   "execution_count": 27,
   "id": "255b1cad-6633-4e4c-b3e2-391d684aaf3f",
   "metadata": {},
   "outputs": [
    {
     "name": "stdout",
     "output_type": "stream",
     "text": [
      "mean: 0.14187721501768844\n"
     ]
    },
    {
     "data": {
      "image/png": "[encoded data removed]",
      "text/plain": [
       "<Figure size 500x400 with 1 Axes>"
      ]
     },
     "metadata": {},
     "output_type": "display_data"
    }
   ],
   "source": [
    "lasso_pipeline = Pipeline([\n",
    "    ('total', total_pipeline),\n",
    "    ('model', LassoCV(alphas = [1, 0.1, .01, 0.05, 0.001, 0.0005]))\n",
    "])\n",
    "lasso_score = cross_validate(lasso_pipeline, X_train, np.log(1+y_train),\n",
    "                             scoring='neg_mean_squared_error',\n",
    "                             return_train_score=True)\n",
    "plot_rmse(lasso_score)\n",
    "print(f\"mean: {np.sqrt(-lasso_score['test_score']).mean()}\")"
   ]
  },
  {
   "cell_type": "code",
   "execution_count": 28,
   "id": "e1fb1086-882d-4703-b48d-36c37e9baff8",
   "metadata": {},
   "outputs": [
    {
     "name": "stdout",
     "output_type": "stream",
     "text": [
      "mean: 0.14835062530127752\n"
     ]
    },
    {
     "data": {
      "image/png": "[encoded data removed]",
      "text/plain": [
       "<Figure size 500x400 with 1 Axes>"
      ]
     },
     "metadata": {},
     "output_type": "display_data"
    }
   ],
   "source": [
    "rf_pipeline = Pipeline([\n",
    "    ('total', total_pipeline),\n",
    "    ('model', RandomForestRegressor(random_state=0))\n",
    "])\n",
    "\n",
    "rf_score = cross_validate(rf_pipeline, X_train, np.log(1+y_train),\n",
    "                          scoring='neg_mean_squared_error',\n",
    "                          return_train_score=True)\n",
    "plot_rmse(rf_score)\n",
    "print(f\"mean: {np.sqrt(-rf_score['test_score']).mean()}\")"
   ]
  },
  {
   "cell_type": "code",
   "execution_count": 29,
   "id": "e1941a3f-5d85-42eb-a3e1-b45187fa4900",
   "metadata": {},
   "outputs": [
    {
     "name": "stdout",
     "output_type": "stream",
     "text": [
      "mean: 0.1483047411161155\n"
     ]
    },
    {
     "data": {
      "image/png": "[encoded data removed]",
      "text/plain": [
       "<Figure size 500x400 with 1 Axes>"
      ]
     },
     "metadata": {},
     "output_type": "display_data"
    }
   ],
   "source": [
    "xgb_pipeline = Pipeline([\n",
    "    ('total', total_pipeline),\n",
    "    ('model', XGBRegressor(random_state=0))\n",
    "])\n",
    "\n",
    "xgb_score = cross_validate(xgb_pipeline, X_train, np.log(1+y_train),\n",
    "                           scoring='neg_mean_squared_error',\n",
    "                           return_train_score=True)\n",
    "\n",
    "plot_rmse(xgb_score)\n",
    "print(f\"mean: {np.sqrt(-xgb_score['test_score']).mean()}\")"
   ]
  },
  {
   "cell_type": "code",
   "execution_count": 30,
   "id": "4d6e97cb-6bb2-4ab3-836d-868ccd08a438",
   "metadata": {},
   "outputs": [
    {
     "name": "stdout",
     "output_type": "stream",
     "text": [
      "mean: 0.1401467973131102\n"
     ]
    },
    {
     "data": {
      "image/png": "[encoded data removed]",
      "text/plain": [
       "<Figure size 500x400 with 1 Axes>"
      ]
     },
     "metadata": {},
     "output_type": "display_data"
    }
   ],
   "source": [
    "lgbm_pipeline = Pipeline([\n",
    "    ('total', total_pipeline),\n",
    "    ('model', LGBMRegressor(random_state=0))\n",
    "])\n",
    "\n",
    "lgbm_score = cross_validate(lgbm_pipeline, X_train, np.log(1+y_train),\n",
    "                           scoring='neg_mean_squared_error',\n",
    "                           return_train_score=True)\n",
    "\n",
    "plot_rmse(lgbm_score)\n",
    "print(f\"mean: {np.sqrt(-lgbm_score['test_score']).mean()}\")"
   ]
  },
  {
   "cell_type": "code",
   "execution_count": 31,
   "id": "12e1d1cf-184e-4db0-a55f-d6539377310b",
   "metadata": {},
   "outputs": [
    {
     "name": "stdout",
     "output_type": "stream",
     "text": [
      "mean: 0.13631680322810746\n"
     ]
    },
    {
     "data": {
      "image/png": "[encoded data removed]",
      "text/plain": [
       "<Figure size 500x400 with 1 Axes>"
      ]
     },
     "metadata": {},
     "output_type": "display_data"
    }
   ],
   "source": [
    "gbr_pipeline = Pipeline([\n",
    "    ('total', total_pipeline),\n",
    "    ('model', GradientBoostingRegressor(random_state=0))\n",
    "])\n",
    "\n",
    "gbr_score = cross_validate(gbr_pipeline, X_train, np.log(1+y_train),\n",
    "                           scoring='neg_mean_squared_error',\n",
    "                           return_train_score=True)\n",
    "\n",
    "plot_rmse(gbr_score)\n",
    "print(f\"mean: {np.sqrt(-gbr_score['test_score']).mean()}\")"
   ]
  },
  {
   "cell_type": "markdown",
   "id": "6a11fe6b-a8f1-4f8a-94d5-75fb323fb164",
   "metadata": {},
   "source": [
    "LGBM looks good so let's try optimising it."
   ]
  },
  {
   "cell_type": "markdown",
   "id": "4a5da38d-c91c-4fca-9f6a-ae526f47b745",
   "metadata": {},
   "source": [
    "## Pipeline simplification for tree modeling"
   ]
  },
  {
   "cell_type": "code",
   "execution_count": 35,
   "id": "23b7045b-e2fe-4dd6-a7a3-c446aada4f3a",
   "metadata": {},
   "outputs": [],
   "source": [
    "fc_pipeline = Pipeline([\n",
    "    ('impute_none', mdi.CategoricalImputer(fill_value='None', variables=impute_none_vars, return_object=True, ignore_format=True)),\n",
    "    ('impute_missing', mdi.CategoricalImputer(fill_value='Missing', variables=impute_mode_vars, return_object=True, ignore_format=True)),\n",
    "    ('impute_zero', mdi.ArbitraryNumberImputer(arbitrary_number=0, variables=impute_zero_vars)),\n",
    "    ('impute_median', mdi.MeanMedianImputer(variables=impute_median_vars)),\n",
    "    ('impute_from_other_vars', pp.UseOtherColumnsImputer(variables=impute_from_other_vars, references=['YearBuilt'])),\n",
    "    ('create', pp.FeatureCreator())\n",
    "])\n",
    "\n",
    "dt_pipeline = Pipeline([\n",
    "    # ('log', pp.Log1P(variables=cont_vars_skewed_dt)),\n",
    "    ('binariser', pp.Binariser(binarise_vars)),\n",
    "    ('rare_encoder', ce.RareLabelEncoder(tol=0.05, n_categories=1, variables=cat_vars_dt+discrete_vars_dt, ignore_format=True)), # tol is a hyperp\n",
    "    ('cat_encoder', ce.OrdinalEncoder(encoding_method='ordered', variables=cat_vars_dt+discrete_vars_dt)), # encoding is hyperp\n",
    "    # ('ohe', ce.OneHotEncoder(variables=cat_vars_dt+discrete_vars_dt, ignore_format=True)),\n",
    "    # ('scale', wrap.SklearnTransformerWrapper(StandardScaler(), variables=cont_vars_dt))\n",
    "])\n",
    "\n",
    "fs_pipeline = Pipeline([\n",
    "    ('drop', sel.DropFeatures(['Id', 'YrSold'])),\n",
    "    ('constant', sel.DropConstantFeatures()),\n",
    "    ('duplicates', sel.DropDuplicateFeatures()),\n",
    "    ('correl', sel.SmartCorrelatedSelection(selection_method='model_performance', \n",
    "                                            estimator=DecisionTreeRegressor(random_state=SEED),\n",
    "                                            scoring='neg_mean_squared_error'))\n",
    "])"
   ]
  },
  {
   "cell_type": "code",
   "execution_count": 36,
   "id": "5fde7e30-0fa9-4bc3-b21c-9b05568a6f2f",
   "metadata": {
    "tags": []
   },
   "outputs": [],
   "source": [
    "total_pipeline = Pipeline([\n",
    "    ('fc', fc_pipeline),\n",
    "    ('dt', dt_pipeline),\n",
    "    ('fs', fs_pipeline)\n",
    "])"
   ]
  },
  {
   "cell_type": "code",
   "execution_count": 37,
   "id": "3cd2e4d2-9d75-4478-9b2c-307c5c3b3826",
   "metadata": {},
   "outputs": [
    {
     "name": "stdout",
     "output_type": "stream",
     "text": [
      "mean: 0.13675470133873496\n"
     ]
    },
    {
     "data": {
      "image/png": "[encoded data removed]",
      "text/plain": [
       "<Figure size 500x400 with 1 Axes>"
      ]
     },
     "metadata": {},
     "output_type": "display_data"
    }
   ],
   "source": [
    "lgbm_pipeline = Pipeline([\n",
    "    ('total', total_pipeline),\n",
    "    ('model', LGBMRegressor(random_state=0))\n",
    "])\n",
    "\n",
    "lgbm_score = cross_validate(lgbm_pipeline, X_train, np.log(1+y_train),\n",
    "                           scoring='neg_mean_squared_error',\n",
    "                           return_train_score=True)\n",
    "\n",
    "plot_rmse(lgbm_score)\n",
    "print(f\"mean: {np.sqrt(-lgbm_score['test_score']).mean()}\")"
   ]
  },
  {
   "cell_type": "markdown",
   "id": "6c74afe7-f27a-4863-b73d-88c724418b41",
   "metadata": {},
   "source": [
    "## Hyperparameter optimisation"
   ]
  },
  {
   "cell_type": "code",
   "execution_count": 38,
   "id": "cde37e1b-d19f-4cfb-9ae6-da6cf20d1408",
   "metadata": {},
   "outputs": [],
   "source": [
    "def objective(trial):\n",
    "\n",
    "    params = {\n",
    "        \"objective\": \"regression\",\n",
    "        \"n_estimators\": 1000,\n",
    "        \"verbosity\": -1,\n",
    "        \"bagging_freq\": 1,\n",
    "        \"learning_rate\": trial.suggest_float(\"learning_rate\", 1e-3, 0.1, log=True),\n",
    "        \"num_leaves\": trial.suggest_int(\"num_leaves\", 2, 2**10),\n",
    "        \"subsample\": trial.suggest_float(\"subsample\", 0.05, 1.0),\n",
    "        \"colsample_bytree\": trial.suggest_float(\"colsample_bytree\", 0.05, 1.0),\n",
    "        \"min_data_in_leaf\": trial.suggest_int(\"min_data_in_leaf\", 1, 100),\n",
    "    }\n",
    "\n",
    "    model_pipeline = Pipeline([\n",
    "        ('total', total_pipeline),\n",
    "        ('model', LGBMRegressor(**params, random_state=0))\n",
    "    ])\n",
    "    \n",
    "    score = cross_val_score(model_pipeline, X_train, np.log(1+y_train),\n",
    "                            scoring='neg_mean_squared_error')\n",
    "    return score.mean()"
   ]
  },
  {
   "cell_type": "code",
   "execution_count": 39,
   "id": "5f19867e-2ef8-47d7-9004-82c2003ee1c4",
   "metadata": {
    "collapsed": true,
    "jupyter": {
     "outputs_hidden": true
    },
    "tags": []
   },
   "outputs": [
    {
     "name": "stderr",
     "output_type": "stream",
     "text": [
      "[I 2023-07-09 22:57:20,257] A new study created in memory with name: no-name-21ba447c-67cc-4032-818d-3a86d7fe8338\n",
      "[I 2023-07-09 22:58:00,328] Trial 6 finished with value: -0.04458887470918882 and parameters: {'learning_rate': 0.003318683967250581, 'num_leaves': 528, 'subsample': 0.19677242319583754, 'colsample_bytree': 0.9291486259242208, 'min_data_in_leaf': 75}. Best is trial 6 with value: -0.04458887470918882.\n",
      "[I 2023-07-09 22:58:14,667] Trial 4 finished with value: -0.021963434183120103 and parameters: {'learning_rate': 0.09787919091904668, 'num_leaves': 967, 'subsample': 0.6218210651127336, 'colsample_bytree': 0.2934731565709278, 'min_data_in_leaf': 90}. Best is trial 4 with value: -0.021963434183120103.\n",
      "[I 2023-07-09 22:58:16,248] Trial 0 finished with value: -0.023532459976273182 and parameters: {'learning_rate': 0.00571369602278916, 'num_leaves': 707, 'subsample': 0.3827742389582143, 'colsample_bytree': 0.5937786871418698, 'min_data_in_leaf': 51}. Best is trial 4 with value: -0.021963434183120103.\n",
      "[I 2023-07-09 22:58:16,542] Trial 11 finished with value: -0.020732757444722544 and parameters: {'learning_rate': 0.010689106921134079, 'num_leaves': 471, 'subsample': 0.9524713596756047, 'colsample_bytree': 0.9083663786008672, 'min_data_in_leaf': 92}. Best is trial 11 with value: -0.020732757444722544.\n",
      "[I 2023-07-09 22:58:16,649] Trial 7 finished with value: -0.01954285931032794 and parameters: {'learning_rate': 0.01717432999919393, 'num_leaves': 344, 'subsample': 0.2544460149243017, 'colsample_bytree': 0.3130234668074408, 'min_data_in_leaf': 28}. Best is trial 7 with value: -0.01954285931032794.\n",
      "[I 2023-07-09 22:58:17,752] Trial 2 finished with value: -0.03349373621495308 and parameters: {'learning_rate': 0.001828608577367963, 'num_leaves': 965, 'subsample': 0.6532317191087704, 'colsample_bytree': 0.8931219199405741, 'min_data_in_leaf': 66}. Best is trial 7 with value: -0.01954285931032794.\n",
      "[I 2023-07-09 22:58:18,078] Trial 3 finished with value: -0.029629978490954813 and parameters: {'learning_rate': 0.0020735753818154736, 'num_leaves': 64, 'subsample': 0.7712977535879119, 'colsample_bytree': 0.6992306688017211, 'min_data_in_leaf': 63}. Best is trial 7 with value: -0.01954285931032794.\n",
      "[I 2023-07-09 22:58:18,103] Trial 5 finished with value: -0.01834235482671562 and parameters: {'learning_rate': 0.009503362691070468, 'num_leaves': 638, 'subsample': 0.8450210769057042, 'colsample_bytree': 0.8753708702563124, 'min_data_in_leaf': 56}. Best is trial 5 with value: -0.01834235482671562.\n",
      "[I 2023-07-09 22:58:19,683] Trial 9 finished with value: -0.02308370177691535 and parameters: {'learning_rate': 0.002721969641255643, 'num_leaves': 498, 'subsample': 0.6004732875193114, 'colsample_bytree': 0.25614548809897497, 'min_data_in_leaf': 27}. Best is trial 5 with value: -0.01834235482671562.\n",
      "[I 2023-07-09 22:58:22,011] Trial 10 finished with value: -0.018133967898621522 and parameters: {'learning_rate': 0.01363992373987198, 'num_leaves': 105, 'subsample': 0.9110790701444851, 'colsample_bytree': 0.799255334336149, 'min_data_in_leaf': 26}. Best is trial 10 with value: -0.018133967898621522.\n",
      "[I 2023-07-09 22:58:22,727] Trial 8 finished with value: -0.018381839751133798 and parameters: {'learning_rate': 0.021044692653239445, 'num_leaves': 966, 'subsample': 0.9347580751855744, 'colsample_bytree': 0.8689768788700596, 'min_data_in_leaf': 31}. Best is trial 10 with value: -0.018133967898621522.\n",
      "[I 2023-07-09 22:58:24,777] Trial 1 finished with value: -0.028118288206628133 and parameters: {'learning_rate': 0.0015674272580418766, 'num_leaves': 510, 'subsample': 0.2380023902093351, 'colsample_bytree': 0.9675068145445556, 'min_data_in_leaf': 5}. Best is trial 10 with value: -0.018133967898621522.\n",
      "[I 2023-07-09 22:58:59,775] Trial 12 finished with value: -0.023126301911897816 and parameters: {'learning_rate': 0.0668742774085471, 'num_leaves': 104, 'subsample': 0.3019161865701514, 'colsample_bytree': 0.693085655476508, 'min_data_in_leaf': 60}. Best is trial 10 with value: -0.018133967898621522.\n",
      "[I 2023-07-09 22:59:14,776] Trial 13 finished with value: -0.044965338218634396 and parameters: {'learning_rate': 0.0016427675303830687, 'num_leaves': 505, 'subsample': 0.5135993236200204, 'colsample_bytree': 0.672104323328711, 'min_data_in_leaf': 95}. Best is trial 10 with value: -0.018133967898621522.\n",
      "[I 2023-07-09 22:59:18,093] Trial 14 finished with value: -0.027238347876997693 and parameters: {'learning_rate': 0.042240857426186676, 'num_leaves': 233, 'subsample': 0.2826616212130049, 'colsample_bytree': 0.2073058285297501, 'min_data_in_leaf': 70}. Best is trial 10 with value: -0.018133967898621522.\n",
      "[I 2023-07-09 22:59:22,029] Trial 18 finished with value: -0.03465918469084056 and parameters: {'learning_rate': 0.002555976055331244, 'num_leaves': 820, 'subsample': 0.18744388863265488, 'colsample_bytree': 0.687573825840672, 'min_data_in_leaf': 38}. Best is trial 10 with value: -0.018133967898621522.\n",
      "[I 2023-07-09 22:59:22,129] Trial 19 finished with value: -0.03335977592082033 and parameters: {'learning_rate': 0.0019167653190802774, 'num_leaves': 380, 'subsample': 0.15331675510834994, 'colsample_bytree': 0.17875396336372606, 'min_data_in_leaf': 11}. Best is trial 10 with value: -0.018133967898621522.\n",
      "[I 2023-07-09 22:59:25,581] Trial 16 finished with value: -0.01826772593151118 and parameters: {'learning_rate': 0.06085763832857012, 'num_leaves': 941, 'subsample': 0.6980222336364618, 'colsample_bytree': 0.4686295590214975, 'min_data_in_leaf': 28}. Best is trial 10 with value: -0.018133967898621522.\n",
      "[I 2023-07-09 22:59:27,057] Trial 17 finished with value: -0.01756855072512428 and parameters: {'learning_rate': 0.02183182075104061, 'num_leaves': 907, 'subsample': 0.3786600780831423, 'colsample_bytree': 0.45881833376302095, 'min_data_in_leaf': 21}. Best is trial 17 with value: -0.01756855072512428.\n",
      "[I 2023-07-09 22:59:29,211] Trial 22 finished with value: -0.016712238779241224 and parameters: {'learning_rate': 0.008898951387523906, 'num_leaves': 12, 'subsample': 0.8300474397273252, 'colsample_bytree': 0.7228360502352134, 'min_data_in_leaf': 2}. Best is trial 22 with value: -0.016712238779241224.\n",
      "[I 2023-07-09 22:59:31,857] Trial 23 finished with value: -0.01833878974771064 and parameters: {'learning_rate': 0.007296309083698306, 'num_leaves': 57, 'subsample': 0.8545165895318543, 'colsample_bytree': 0.7305709087020462, 'min_data_in_leaf': 44}. Best is trial 22 with value: -0.016712238779241224.\n",
      "[I 2023-07-09 22:59:36,027] Trial 20 finished with value: -0.020232705196998428 and parameters: {'learning_rate': 0.002915964807145548, 'num_leaves': 144, 'subsample': 0.7923391952861017, 'colsample_bytree': 0.6266853657593976, 'min_data_in_leaf': 22}. Best is trial 22 with value: -0.016712238779241224.\n",
      "[I 2023-07-09 22:59:37,309] Trial 21 finished with value: -0.017816674548298096 and parameters: {'learning_rate': 0.0295175843172081, 'num_leaves': 30, 'subsample': 0.9983348188415584, 'colsample_bytree': 0.0790843208048636, 'min_data_in_leaf': 9}. Best is trial 22 with value: -0.016712238779241224.\n",
      "[I 2023-07-09 22:59:40,522] Trial 15 finished with value: -0.019766023937169943 and parameters: {'learning_rate': 0.0029754102992182543, 'num_leaves': 964, 'subsample': 0.47628112778882614, 'colsample_bytree': 0.2561700162648571, 'min_data_in_leaf': 8}. Best is trial 22 with value: -0.016712238779241224.\n",
      "[I 2023-07-09 22:59:52,806] Trial 26 finished with value: -0.018531008828037116 and parameters: {'learning_rate': 0.005838133990934009, 'num_leaves': 754, 'subsample': 0.8226223957087715, 'colsample_bytree': 0.7876885993237265, 'min_data_in_leaf': 39}. Best is trial 22 with value: -0.016712238779241224.\n",
      "[I 2023-07-09 23:00:03,512] Trial 28 finished with value: -0.017908414438805843 and parameters: {'learning_rate': 0.007047914980844332, 'num_leaves': 677, 'subsample': 0.8402071010550951, 'colsample_bytree': 0.8021992791811088, 'min_data_in_leaf': 18}. Best is trial 22 with value: -0.016712238779241224.\n",
      "[I 2023-07-09 23:00:08,202] Trial 29 finished with value: -0.01727758623547298 and parameters: {'learning_rate': 0.03734331775296578, 'num_leaves': 214, 'subsample': 0.772327912414908, 'colsample_bytree': 0.42626777840557556, 'min_data_in_leaf': 16}. Best is trial 22 with value: -0.016712238779241224.\n",
      "[I 2023-07-09 23:00:10,709] Trial 24 finished with value: -0.017970988113859006 and parameters: {'learning_rate': 0.007193012807723551, 'num_leaves': 242, 'subsample': 0.8097888884894304, 'colsample_bytree': 0.7841360055540546, 'min_data_in_leaf': 8}. Best is trial 22 with value: -0.016712238779241224.\n",
      "[I 2023-07-09 23:00:15,788] Trial 25 finished with value: -0.01799535492496686 and parameters: {'learning_rate': 0.006266351912231371, 'num_leaves': 733, 'subsample': 0.8366370561049578, 'colsample_bytree': 0.7726054431063549, 'min_data_in_leaf': 8}. Best is trial 22 with value: -0.016712238779241224.\n",
      "[I 2023-07-09 23:00:19,372] Trial 27 finished with value: -0.018120881939612733 and parameters: {'learning_rate': 0.006838857649172811, 'num_leaves': 701, 'subsample': 0.8297234397137784, 'colsample_bytree': 0.7810675743603926, 'min_data_in_leaf': 7}. Best is trial 22 with value: -0.016712238779241224.\n"
     ]
    }
   ],
   "source": [
    "# may not be reproducible but that's ok\n",
    "study = optuna.create_study(\n",
    "    direction='maximize'\n",
    ")\n",
    "\n",
    "study.optimize(objective, n_trials=30, n_jobs=-1)"
   ]
  },
  {
   "cell_type": "code",
   "execution_count": 40,
   "id": "31e46bc7-550b-4f44-8d85-03be0a27a2a0",
   "metadata": {},
   "outputs": [
    {
     "data": {
      "text/plain": [
       "{'learning_rate': 0.008898951387523906,\n",
       " 'num_leaves': 12,\n",
       " 'subsample': 0.8300474397273252,\n",
       " 'colsample_bytree': 0.7228360502352134,\n",
       " 'min_data_in_leaf': 2}"
      ]
     },
     "execution_count": 40,
     "metadata": {},
     "output_type": "execute_result"
    }
   ],
   "source": [
    "study.best_params"
   ]
  },
  {
   "cell_type": "code",
   "execution_count": 41,
   "id": "ed6e4753-3464-4a76-9191-a51600e7c2d3",
   "metadata": {},
   "outputs": [
    {
     "data": {
      "text/plain": [
       "0.1292758244191126"
      ]
     },
     "execution_count": 41,
     "metadata": {},
     "output_type": "execute_result"
    }
   ],
   "source": [
    "np.sqrt(-study.best_value)"
   ]
  },
  {
   "cell_type": "code",
   "execution_count": 43,
   "id": "eec32453-adec-4766-8884-5ec8b9c994fa",
   "metadata": {},
   "outputs": [],
   "source": [
    "selected_hyperp = {\n",
    "    \"objective\": \"regression\",\n",
    "    \"n_estimators\": 1000,\n",
    "    \"verbosity\": -1,\n",
    "    \"bagging_freq\": 1,\n",
    "    'learning_rate': 0.008898951387523906,\n",
    "    'num_leaves': 12,\n",
    "    'subsample': 0.8300474397273252,\n",
    "    'colsample_bytree': 0.7228360502352134,\n",
    "    'min_data_in_leaf': 2,\n",
    "    'random_state': SEED\n",
    "}"
   ]
  },
  {
   "cell_type": "code",
   "execution_count": 59,
   "id": "63aa09c6-c166-415e-b9b8-b866c167d302",
   "metadata": {},
   "outputs": [
    {
     "name": "stdout",
     "output_type": "stream",
     "text": [
      "[LightGBM] [Warning] min_data_in_leaf is set=2, min_child_samples=20 will be ignored. Current value: min_data_in_leaf=2\n",
      "[LightGBM] [Warning] bagging_freq is set=1, subsample_freq=0 will be ignored. Current value: bagging_freq=1\n",
      "[LightGBM] [Warning] min_data_in_leaf is set=2, min_child_samples=20 will be ignored. Current value: min_data_in_leaf=2\n",
      "[LightGBM] [Warning] bagging_freq is set=1, subsample_freq=0 will be ignored. Current value: bagging_freq=1\n",
      "[LightGBM] [Warning] min_data_in_leaf is set=2, min_child_samples=20 will be ignored. Current value: min_data_in_leaf=2\n",
      "[LightGBM] [Warning] bagging_freq is set=1, subsample_freq=0 will be ignored. Current value: bagging_freq=1\n",
      "[LightGBM] [Warning] min_data_in_leaf is set=2, min_child_samples=20 will be ignored. Current value: min_data_in_leaf=2\n",
      "[LightGBM] [Warning] bagging_freq is set=1, subsample_freq=0 will be ignored. Current value: bagging_freq=1\n",
      "[LightGBM] [Warning] min_data_in_leaf is set=2, min_child_samples=20 will be ignored. Current value: min_data_in_leaf=2\n",
      "[LightGBM] [Warning] bagging_freq is set=1, subsample_freq=0 will be ignored. Current value: bagging_freq=1\n",
      "mean: 0.1282048112707059\n"
     ]
    },
    {
     "data": {
      "image/png": "[encoded data removed]",
      "text/plain": [
       "<Figure size 500x400 with 1 Axes>"
      ]
     },
     "metadata": {},
     "output_type": "display_data"
    }
   ],
   "source": [
    "lgbm_pipeline = Pipeline([\n",
    "    ('total', total_pipeline),\n",
    "    ('model', LGBMRegressor(**selected_hyperp))\n",
    "])\n",
    "\n",
    "lgbm_score = cross_validate(lgbm_pipeline, X_train, np.log(1+y_train),\n",
    "                           scoring='neg_mean_squared_error',\n",
    "                           return_train_score=True)\n",
    "\n",
    "plot_rmse(lgbm_score)\n",
    "print(f\"mean: {np.sqrt(-lgbm_score['test_score']).mean()}\")"
   ]
  },
  {
   "cell_type": "markdown",
   "id": "07794c3c-bd23-45c5-ba08-0b95768b3ed2",
   "metadata": {
    "tags": []
   },
   "source": [
    "## Scoring pipeline"
   ]
  },
  {
   "cell_type": "code",
   "execution_count": 42,
   "id": "fbbfd058-86e1-4baf-96df-c0e0d85f3087",
   "metadata": {},
   "outputs": [],
   "source": [
    "X_test, y_test = test.drop('SalePrice', axis=1), test['SalePrice']"
   ]
  },
  {
   "cell_type": "code",
   "execution_count": 44,
   "id": "7157542b-c476-427d-baaf-14be770450d4",
   "metadata": {},
   "outputs": [],
   "source": [
    "model_pipeline = Pipeline([\n",
    "    ('total', total_pipeline),\n",
    "    ('model', LGBMRegressor(**selected_hyperp))\n",
    "])"
   ]
  },
  {
   "cell_type": "code",
   "execution_count": 45,
   "id": "ac0c7aa0-b300-4ce9-870b-d3f6a33d4472",
   "metadata": {
    "tags": []
   },
   "outputs": [
    {
     "data": {
      "text/html": [
       "<style>#sk-container-id-1 {color: black;}#sk-container-id-1 pre{padding: 0;}#sk-container-id-1 div.sk-toggleable {background-color: white;}#sk-container-id-1 label.sk-toggleable__label {cursor: pointer;display: block;width: 100%;margin-bottom: 0;padding: 0.3em;box-sizing: border-box;text-align: center;}#sk-container-id-1 label.sk-toggleable__label-arrow:before {content: \"▸\";float: left;margin-right: 0.25em;color: #696969;}#sk-container-id-1 label.sk-toggleable__label-arrow:hover:before {color: black;}#sk-container-id-1 div.sk-estimator:hover label.sk-toggleable__label-arrow:before {color: black;}#sk-container-id-1 div.sk-toggleable__content {max-height: 0;max-width: 0;overflow: hidden;text-align: left;background-color: #f0f8ff;}#sk-container-id-1 div.sk-toggleable__content pre {margin: 0.2em;color: black;border-radius: 0.25em;background-color: #f0f8ff;}#sk-container-id-1 input.sk-toggleable__control:checked~div.sk-toggleable__content {max-height: 200px;max-width: 100%;overflow: auto;}#sk-container-id-1 input.sk-toggleable__control:checked~label.sk-toggleable__label-arrow:before {content: \"▾\";}#sk-container-id-1 div.sk-estimator input.sk-toggleable__control:checked~label.sk-toggleable__label {background-color: #d4ebff;}#sk-container-id-1 div.sk-label input.sk-toggleable__control:checked~label.sk-toggleable__label {background-color: #d4ebff;}#sk-container-id-1 input.sk-hidden--visually {border: 0;clip: rect(1px 1px 1px 1px);clip: rect(1px, 1px, 1px, 1px);height: 1px;margin: -1px;overflow: hidden;padding: 0;position: absolute;width: 1px;}#sk-container-id-1 div.sk-estimator {font-family: monospace;background-color: #f0f8ff;border: 1px dotted black;border-radius: 0.25em;box-sizing: border-box;margin-bottom: 0.5em;}#sk-container-id-1 div.sk-estimator:hover {background-color: #d4ebff;}#sk-container-id-1 div.sk-parallel-item::after {content: \"\";width: 100%;border-bottom: 1px solid gray;flex-grow: 1;}#sk-container-id-1 div.sk-label:hover label.sk-toggleable__label {background-color: #d4ebff;}#sk-container-id-1 div.sk-serial::before {content: \"\";position: absolute;border-left: 1px solid gray;box-sizing: border-box;top: 0;bottom: 0;left: 50%;z-index: 0;}#sk-container-id-1 div.sk-serial {display: flex;flex-direction: column;align-items: center;background-color: white;padding-right: 0.2em;padding-left: 0.2em;position: relative;}#sk-container-id-1 div.sk-item {position: relative;z-index: 1;}#sk-container-id-1 div.sk-parallel {display: flex;align-items: stretch;justify-content: center;background-color: white;position: relative;}#sk-container-id-1 div.sk-item::before, #sk-container-id-1 div.sk-parallel-item::before {content: \"\";position: absolute;border-left: 1px solid gray;box-sizing: border-box;top: 0;bottom: 0;left: 50%;z-index: -1;}#sk-container-id-1 div.sk-parallel-item {display: flex;flex-direction: column;z-index: 1;position: relative;background-color: white;}#sk-container-id-1 div.sk-parallel-item:first-child::after {align-self: flex-end;width: 50%;}#sk-container-id-1 div.sk-parallel-item:last-child::after {align-self: flex-start;width: 50%;}#sk-container-id-1 div.sk-parallel-item:only-child::after {width: 0;}#sk-container-id-1 div.sk-dashed-wrapped {border: 1px dashed gray;margin: 0 0.4em 0.5em 0.4em;box-sizing: border-box;padding-bottom: 0.4em;background-color: white;}#sk-container-id-1 div.sk-label label {font-family: monospace;font-weight: bold;display: inline-block;line-height: 1.2em;}#sk-container-id-1 div.sk-label-container {text-align: center;}#sk-container-id-1 div.sk-container {/* jupyter's `normalize.less` sets `[hidden] { display: none; }` but bootstrap.min.css set `[hidden] { display: none !important; }` so we also need the `!important` here to be able to override the default hidden behavior on the sphinx rendered scikit-learn.org. See: https://github.com/scikit-learn/scikit-learn/issues/21755 */display: inline-block !important;position: relative;}#sk-container-id-1 div.sk-text-repr-fallback {display: none;}</style><div id=\"sk-container-id-1\" class=\"sk-top-container\"><div class=\"sk-text-repr-fallback\"><pre>Pipeline(steps=[(&#x27;total&#x27;,\n",
       "                 Pipeline(steps=[(&#x27;fc&#x27;,\n",
       "                                  Pipeline(steps=[(&#x27;impute_none&#x27;,\n",
       "                                                   CategoricalImputer(fill_value=&#x27;None&#x27;,\n",
       "                                                                      ignore_format=True,\n",
       "                                                                      return_object=True,\n",
       "                                                                      variables=[&#x27;Alley&#x27;,\n",
       "                                                                                 &#x27;BsmtQual&#x27;,\n",
       "                                                                                 &#x27;BsmtCond&#x27;,\n",
       "                                                                                 &#x27;BsmtExposure&#x27;,\n",
       "                                                                                 &#x27;BsmtFinType1&#x27;,\n",
       "                                                                                 &#x27;BsmtFinType2&#x27;,\n",
       "                                                                                 &#x27;FireplaceQu&#x27;,\n",
       "                                                                                 &#x27;GarageType&#x27;,\n",
       "                                                                                 &#x27;GarageFinish&#x27;,\n",
       "                                                                                 &#x27;GarageQual&#x27;,\n",
       "                                                                                 &#x27;GarageCond&#x27;,\n",
       "                                                                                 &#x27;PoolQC&#x27;,\n",
       "                                                                                 &#x27;Fence&#x27;,\n",
       "                                                                                 &#x27;MiscFeature&#x27;])),\n",
       "                                                  (&#x27;impute_...\n",
       "                                                   SmartCorrelatedSelection(estimator=DecisionTreeRegressor(random_state=0),\n",
       "                                                                            scoring=&#x27;neg_mean_squared_error&#x27;,\n",
       "                                                                            selection_method=&#x27;model_performance&#x27;))]))])),\n",
       "                (&#x27;model&#x27;,\n",
       "                 LGBMRegressor(bagging_freq=1,\n",
       "                               colsample_bytree=0.7228360502352134,\n",
       "                               learning_rate=0.008898951387523906,\n",
       "                               min_data_in_leaf=2, n_estimators=1000,\n",
       "                               num_leaves=12, objective=&#x27;regression&#x27;,\n",
       "                               random_state=0, subsample=0.8300474397273252,\n",
       "                               verbosity=-1))])</pre><b>In a Jupyter environment, please rerun this cell to show the HTML representation or trust the notebook. <br />On GitHub, the HTML representation is unable to render, please try loading this page with nbviewer.org.</b></div><div class=\"sk-container\" hidden><div class=\"sk-item sk-dashed-wrapped\"><div class=\"sk-label-container\"><div class=\"sk-label sk-toggleable\"><input class=\"sk-toggleable__control sk-hidden--visually\" id=\"sk-estimator-id-1\" type=\"checkbox\" ><label for=\"sk-estimator-id-1\" class=\"sk-toggleable__label sk-toggleable__label-arrow\">Pipeline</label><div class=\"sk-toggleable__content\"><pre>Pipeline(steps=[(&#x27;total&#x27;,\n",
       "                 Pipeline(steps=[(&#x27;fc&#x27;,\n",
       "                                  Pipeline(steps=[(&#x27;impute_none&#x27;,\n",
       "                                                   CategoricalImputer(fill_value=&#x27;None&#x27;,\n",
       "                                                                      ignore_format=True,\n",
       "                                                                      return_object=True,\n",
       "                                                                      variables=[&#x27;Alley&#x27;,\n",
       "                                                                                 &#x27;BsmtQual&#x27;,\n",
       "                                                                                 &#x27;BsmtCond&#x27;,\n",
       "                                                                                 &#x27;BsmtExposure&#x27;,\n",
       "                                                                                 &#x27;BsmtFinType1&#x27;,\n",
       "                                                                                 &#x27;BsmtFinType2&#x27;,\n",
       "                                                                                 &#x27;FireplaceQu&#x27;,\n",
       "                                                                                 &#x27;GarageType&#x27;,\n",
       "                                                                                 &#x27;GarageFinish&#x27;,\n",
       "                                                                                 &#x27;GarageQual&#x27;,\n",
       "                                                                                 &#x27;GarageCond&#x27;,\n",
       "                                                                                 &#x27;PoolQC&#x27;,\n",
       "                                                                                 &#x27;Fence&#x27;,\n",
       "                                                                                 &#x27;MiscFeature&#x27;])),\n",
       "                                                  (&#x27;impute_...\n",
       "                                                   SmartCorrelatedSelection(estimator=DecisionTreeRegressor(random_state=0),\n",
       "                                                                            scoring=&#x27;neg_mean_squared_error&#x27;,\n",
       "                                                                            selection_method=&#x27;model_performance&#x27;))]))])),\n",
       "                (&#x27;model&#x27;,\n",
       "                 LGBMRegressor(bagging_freq=1,\n",
       "                               colsample_bytree=0.7228360502352134,\n",
       "                               learning_rate=0.008898951387523906,\n",
       "                               min_data_in_leaf=2, n_estimators=1000,\n",
       "                               num_leaves=12, objective=&#x27;regression&#x27;,\n",
       "                               random_state=0, subsample=0.8300474397273252,\n",
       "                               verbosity=-1))])</pre></div></div></div><div class=\"sk-serial\"><div class=\"sk-item\"><div class=\"sk-label-container\"><div class=\"sk-label sk-toggleable\"><input class=\"sk-toggleable__control sk-hidden--visually\" id=\"sk-estimator-id-2\" type=\"checkbox\" ><label for=\"sk-estimator-id-2\" class=\"sk-toggleable__label sk-toggleable__label-arrow\">total: Pipeline</label><div class=\"sk-toggleable__content\"><pre>Pipeline(steps=[(&#x27;fc&#x27;,\n",
       "                 Pipeline(steps=[(&#x27;impute_none&#x27;,\n",
       "                                  CategoricalImputer(fill_value=&#x27;None&#x27;,\n",
       "                                                     ignore_format=True,\n",
       "                                                     return_object=True,\n",
       "                                                     variables=[&#x27;Alley&#x27;,\n",
       "                                                                &#x27;BsmtQual&#x27;,\n",
       "                                                                &#x27;BsmtCond&#x27;,\n",
       "                                                                &#x27;BsmtExposure&#x27;,\n",
       "                                                                &#x27;BsmtFinType1&#x27;,\n",
       "                                                                &#x27;BsmtFinType2&#x27;,\n",
       "                                                                &#x27;FireplaceQu&#x27;,\n",
       "                                                                &#x27;GarageType&#x27;,\n",
       "                                                                &#x27;GarageFinish&#x27;,\n",
       "                                                                &#x27;GarageQual&#x27;,\n",
       "                                                                &#x27;GarageCond&#x27;,\n",
       "                                                                &#x27;PoolQC&#x27;,\n",
       "                                                                &#x27;Fence&#x27;,\n",
       "                                                                &#x27;MiscFeature&#x27;])),\n",
       "                                 (&#x27;impute_missing&#x27;,\n",
       "                                  CategoricalImput...\n",
       "                                                            &#x27;HeatingQC&#x27;,\n",
       "                                                            &#x27;CentralAir&#x27;,\n",
       "                                                            &#x27;Electrical&#x27;, ...]))])),\n",
       "                (&#x27;fs&#x27;,\n",
       "                 Pipeline(steps=[(&#x27;drop&#x27;,\n",
       "                                  DropFeatures(features_to_drop=[&#x27;Id&#x27;,\n",
       "                                                                 &#x27;YrSold&#x27;])),\n",
       "                                 (&#x27;constant&#x27;, DropConstantFeatures()),\n",
       "                                 (&#x27;duplicates&#x27;, DropDuplicateFeatures()),\n",
       "                                 (&#x27;correl&#x27;,\n",
       "                                  SmartCorrelatedSelection(estimator=DecisionTreeRegressor(random_state=0),\n",
       "                                                           scoring=&#x27;neg_mean_squared_error&#x27;,\n",
       "                                                           selection_method=&#x27;model_performance&#x27;))]))])</pre></div></div></div><div class=\"sk-serial\"><div class=\"sk-item\"><div class=\"sk-label-container\"><div class=\"sk-label sk-toggleable\"><input class=\"sk-toggleable__control sk-hidden--visually\" id=\"sk-estimator-id-3\" type=\"checkbox\" ><label for=\"sk-estimator-id-3\" class=\"sk-toggleable__label sk-toggleable__label-arrow\">fc: Pipeline</label><div class=\"sk-toggleable__content\"><pre>Pipeline(steps=[(&#x27;impute_none&#x27;,\n",
       "                 CategoricalImputer(fill_value=&#x27;None&#x27;, ignore_format=True,\n",
       "                                    return_object=True,\n",
       "                                    variables=[&#x27;Alley&#x27;, &#x27;BsmtQual&#x27;, &#x27;BsmtCond&#x27;,\n",
       "                                               &#x27;BsmtExposure&#x27;, &#x27;BsmtFinType1&#x27;,\n",
       "                                               &#x27;BsmtFinType2&#x27;, &#x27;FireplaceQu&#x27;,\n",
       "                                               &#x27;GarageType&#x27;, &#x27;GarageFinish&#x27;,\n",
       "                                               &#x27;GarageQual&#x27;, &#x27;GarageCond&#x27;,\n",
       "                                               &#x27;PoolQC&#x27;, &#x27;Fence&#x27;,\n",
       "                                               &#x27;MiscFeature&#x27;])),\n",
       "                (&#x27;impute_missing&#x27;,\n",
       "                 CategoricalImputer(ignore_format=True,...\n",
       "                                              &#x27;BsmtFullBath&#x27;, &#x27;BsmtHalfBath&#x27;,\n",
       "                                              &#x27;FullBath&#x27;, &#x27;HalfBath&#x27;,\n",
       "                                              &#x27;BedroomAbvGr&#x27;, &#x27;KitchenAbvGr&#x27;,\n",
       "                                              &#x27;TotRmsAbvGrd&#x27;, &#x27;Fireplaces&#x27;,\n",
       "                                              &#x27;GarageCars&#x27;, &#x27;GarageArea&#x27;,\n",
       "                                              &#x27;WoodDeckSF&#x27;, &#x27;OpenPorchSF&#x27;,\n",
       "                                              &#x27;EnclosedPorch&#x27;, &#x27;3SsnPorch&#x27;,\n",
       "                                              &#x27;ScreenPorch&#x27;, &#x27;PoolArea&#x27;, ...])),\n",
       "                (&#x27;impute_from_other_vars&#x27;,\n",
       "                 UseOtherColumnsImputer(references=[&#x27;YearBuilt&#x27;],\n",
       "                                        variables=[&#x27;GarageYrBlt&#x27;])),\n",
       "                (&#x27;create&#x27;, FeatureCreator())])</pre></div></div></div><div class=\"sk-serial\"><div class=\"sk-item\"><div class=\"sk-estimator sk-toggleable\"><input class=\"sk-toggleable__control sk-hidden--visually\" id=\"sk-estimator-id-4\" type=\"checkbox\" ><label for=\"sk-estimator-id-4\" class=\"sk-toggleable__label sk-toggleable__label-arrow\">CategoricalImputer</label><div class=\"sk-toggleable__content\"><pre>CategoricalImputer(fill_value=&#x27;None&#x27;, ignore_format=True, return_object=True,\n",
       "                   variables=[&#x27;Alley&#x27;, &#x27;BsmtQual&#x27;, &#x27;BsmtCond&#x27;, &#x27;BsmtExposure&#x27;,\n",
       "                              &#x27;BsmtFinType1&#x27;, &#x27;BsmtFinType2&#x27;, &#x27;FireplaceQu&#x27;,\n",
       "                              &#x27;GarageType&#x27;, &#x27;GarageFinish&#x27;, &#x27;GarageQual&#x27;,\n",
       "                              &#x27;GarageCond&#x27;, &#x27;PoolQC&#x27;, &#x27;Fence&#x27;, &#x27;MiscFeature&#x27;])</pre></div></div></div><div class=\"sk-item\"><div class=\"sk-estimator sk-toggleable\"><input class=\"sk-toggleable__control sk-hidden--visually\" id=\"sk-estimator-id-5\" type=\"checkbox\" ><label for=\"sk-estimator-id-5\" class=\"sk-toggleable__label sk-toggleable__label-arrow\">CategoricalImputer</label><div class=\"sk-toggleable__content\"><pre>CategoricalImputer(ignore_format=True, return_object=True,\n",
       "                   variables=[&#x27;MSZoning&#x27;, &#x27;Street&#x27;, &#x27;LotShape&#x27;, &#x27;LandContour&#x27;,\n",
       "                              &#x27;Utilities&#x27;, &#x27;LotConfig&#x27;, &#x27;LandSlope&#x27;,\n",
       "                              &#x27;Neighborhood&#x27;, &#x27;Condition1&#x27;, &#x27;Condition2&#x27;,\n",
       "                              &#x27;BldgType&#x27;, &#x27;HouseStyle&#x27;, &#x27;RoofStyle&#x27;, &#x27;RoofMatl&#x27;,\n",
       "                              &#x27;Exterior1st&#x27;, &#x27;Exterior2nd&#x27;, &#x27;MasVnrType&#x27;,\n",
       "                              &#x27;ExterQual&#x27;, &#x27;ExterCond&#x27;, &#x27;Foundation&#x27;, &#x27;Heating&#x27;,\n",
       "                              &#x27;HeatingQC&#x27;, &#x27;CentralAir&#x27;, &#x27;Electrical&#x27;,\n",
       "                              &#x27;KitchenQual&#x27;, &#x27;Functional&#x27;, &#x27;PavedDrive&#x27;,\n",
       "                              &#x27;SaleType&#x27;, &#x27;SaleCondition&#x27;, &#x27;MSSubClass&#x27;, ...])</pre></div></div></div><div class=\"sk-item\"><div class=\"sk-estimator sk-toggleable\"><input class=\"sk-toggleable__control sk-hidden--visually\" id=\"sk-estimator-id-6\" type=\"checkbox\" ><label for=\"sk-estimator-id-6\" class=\"sk-toggleable__label sk-toggleable__label-arrow\">ArbitraryNumberImputer</label><div class=\"sk-toggleable__content\"><pre>ArbitraryNumberImputer(arbitrary_number=0, variables=[&#x27;MasVnrArea&#x27;])</pre></div></div></div><div class=\"sk-item\"><div class=\"sk-estimator sk-toggleable\"><input class=\"sk-toggleable__control sk-hidden--visually\" id=\"sk-estimator-id-7\" type=\"checkbox\" ><label for=\"sk-estimator-id-7\" class=\"sk-toggleable__label sk-toggleable__label-arrow\">MeanMedianImputer</label><div class=\"sk-toggleable__content\"><pre>MeanMedianImputer(variables=[&#x27;LotFrontage&#x27;, &#x27;LotArea&#x27;, &#x27;OverallQual&#x27;,\n",
       "                             &#x27;OverallCond&#x27;, &#x27;YearBuilt&#x27;, &#x27;YearRemodAdd&#x27;,\n",
       "                             &#x27;BsmtFinSF1&#x27;, &#x27;BsmtFinSF2&#x27;, &#x27;BsmtUnfSF&#x27;,\n",
       "                             &#x27;TotalBsmtSF&#x27;, &#x27;1stFlrSF&#x27;, &#x27;2ndFlrSF&#x27;,\n",
       "                             &#x27;LowQualFinSF&#x27;, &#x27;GrLivArea&#x27;, &#x27;BsmtFullBath&#x27;,\n",
       "                             &#x27;BsmtHalfBath&#x27;, &#x27;FullBath&#x27;, &#x27;HalfBath&#x27;,\n",
       "                             &#x27;BedroomAbvGr&#x27;, &#x27;KitchenAbvGr&#x27;, &#x27;TotRmsAbvGrd&#x27;,\n",
       "                             &#x27;Fireplaces&#x27;, &#x27;GarageCars&#x27;, &#x27;GarageArea&#x27;,\n",
       "                             &#x27;WoodDeckSF&#x27;, &#x27;OpenPorchSF&#x27;, &#x27;EnclosedPorch&#x27;,\n",
       "                             &#x27;3SsnPorch&#x27;, &#x27;ScreenPorch&#x27;, &#x27;PoolArea&#x27;, ...])</pre></div></div></div><div class=\"sk-item\"><div class=\"sk-estimator sk-toggleable\"><input class=\"sk-toggleable__control sk-hidden--visually\" id=\"sk-estimator-id-8\" type=\"checkbox\" ><label for=\"sk-estimator-id-8\" class=\"sk-toggleable__label sk-toggleable__label-arrow\">UseOtherColumnsImputer</label><div class=\"sk-toggleable__content\"><pre>UseOtherColumnsImputer(references=[&#x27;YearBuilt&#x27;], variables=[&#x27;GarageYrBlt&#x27;])</pre></div></div></div><div class=\"sk-item\"><div class=\"sk-estimator sk-toggleable\"><input class=\"sk-toggleable__control sk-hidden--visually\" id=\"sk-estimator-id-9\" type=\"checkbox\" ><label for=\"sk-estimator-id-9\" class=\"sk-toggleable__label sk-toggleable__label-arrow\">FeatureCreator</label><div class=\"sk-toggleable__content\"><pre>FeatureCreator()</pre></div></div></div></div></div><div class=\"sk-item\"><div class=\"sk-label-container\"><div class=\"sk-label sk-toggleable\"><input class=\"sk-toggleable__control sk-hidden--visually\" id=\"sk-estimator-id-10\" type=\"checkbox\" ><label for=\"sk-estimator-id-10\" class=\"sk-toggleable__label sk-toggleable__label-arrow\">dt: Pipeline</label><div class=\"sk-toggleable__content\"><pre>Pipeline(steps=[(&#x27;binariser&#x27;,\n",
       "                 Binariser(variables=[&#x27;BsmtFinSF2&#x27;, &#x27;LowQualFinSF&#x27;,\n",
       "                                      &#x27;EnclosedPorch&#x27;, &#x27;ScreenPorch&#x27;,\n",
       "                                      &#x27;MiscVal&#x27;])),\n",
       "                (&#x27;rare_encoder&#x27;,\n",
       "                 RareLabelEncoder(ignore_format=True, n_categories=1,\n",
       "                                  variables=[&#x27;MSZoning&#x27;, &#x27;Street&#x27;, &#x27;Alley&#x27;,\n",
       "                                             &#x27;LotShape&#x27;, &#x27;LandContour&#x27;,\n",
       "                                             &#x27;Utilities&#x27;, &#x27;LotConfig&#x27;,\n",
       "                                             &#x27;LandSlope&#x27;, &#x27;Neighborhood&#x27;,\n",
       "                                             &#x27;Condition1&#x27;, &#x27;Condition2&#x27;,\n",
       "                                             &#x27;BldgType&#x27;, &#x27;HouseStyl...\n",
       "                                           &#x27;LotShape&#x27;, &#x27;LandContour&#x27;,\n",
       "                                           &#x27;Utilities&#x27;, &#x27;LotConfig&#x27;,\n",
       "                                           &#x27;LandSlope&#x27;, &#x27;Neighborhood&#x27;,\n",
       "                                           &#x27;Condition1&#x27;, &#x27;Condition2&#x27;,\n",
       "                                           &#x27;BldgType&#x27;, &#x27;HouseStyle&#x27;,\n",
       "                                           &#x27;RoofStyle&#x27;, &#x27;RoofMatl&#x27;,\n",
       "                                           &#x27;Exterior1st&#x27;, &#x27;Exterior2nd&#x27;,\n",
       "                                           &#x27;MasVnrType&#x27;, &#x27;ExterQual&#x27;,\n",
       "                                           &#x27;ExterCond&#x27;, &#x27;Foundation&#x27;,\n",
       "                                           &#x27;BsmtQual&#x27;, &#x27;BsmtCond&#x27;,\n",
       "                                           &#x27;BsmtExposure&#x27;, &#x27;BsmtFinType1&#x27;,\n",
       "                                           &#x27;BsmtFinType2&#x27;, &#x27;Heating&#x27;,\n",
       "                                           &#x27;HeatingQC&#x27;, &#x27;CentralAir&#x27;,\n",
       "                                           &#x27;Electrical&#x27;, ...]))])</pre></div></div></div><div class=\"sk-serial\"><div class=\"sk-item\"><div class=\"sk-estimator sk-toggleable\"><input class=\"sk-toggleable__control sk-hidden--visually\" id=\"sk-estimator-id-11\" type=\"checkbox\" ><label for=\"sk-estimator-id-11\" class=\"sk-toggleable__label sk-toggleable__label-arrow\">Binariser</label><div class=\"sk-toggleable__content\"><pre>Binariser(variables=[&#x27;BsmtFinSF2&#x27;, &#x27;LowQualFinSF&#x27;, &#x27;EnclosedPorch&#x27;,\n",
       "                     &#x27;ScreenPorch&#x27;, &#x27;MiscVal&#x27;])</pre></div></div></div><div class=\"sk-item\"><div class=\"sk-estimator sk-toggleable\"><input class=\"sk-toggleable__control sk-hidden--visually\" id=\"sk-estimator-id-12\" type=\"checkbox\" ><label for=\"sk-estimator-id-12\" class=\"sk-toggleable__label sk-toggleable__label-arrow\">RareLabelEncoder</label><div class=\"sk-toggleable__content\"><pre>RareLabelEncoder(ignore_format=True, n_categories=1,\n",
       "                 variables=[&#x27;MSZoning&#x27;, &#x27;Street&#x27;, &#x27;Alley&#x27;, &#x27;LotShape&#x27;,\n",
       "                            &#x27;LandContour&#x27;, &#x27;Utilities&#x27;, &#x27;LotConfig&#x27;,\n",
       "                            &#x27;LandSlope&#x27;, &#x27;Neighborhood&#x27;, &#x27;Condition1&#x27;,\n",
       "                            &#x27;Condition2&#x27;, &#x27;BldgType&#x27;, &#x27;HouseStyle&#x27;, &#x27;RoofStyle&#x27;,\n",
       "                            &#x27;RoofMatl&#x27;, &#x27;Exterior1st&#x27;, &#x27;Exterior2nd&#x27;,\n",
       "                            &#x27;MasVnrType&#x27;, &#x27;ExterQual&#x27;, &#x27;ExterCond&#x27;,\n",
       "                            &#x27;Foundation&#x27;, &#x27;BsmtQual&#x27;, &#x27;BsmtCond&#x27;,\n",
       "                            &#x27;BsmtExposure&#x27;, &#x27;BsmtFinType1&#x27;, &#x27;BsmtFinType2&#x27;,\n",
       "                            &#x27;Heating&#x27;, &#x27;HeatingQC&#x27;, &#x27;CentralAir&#x27;, &#x27;Electrical&#x27;, ...])</pre></div></div></div><div class=\"sk-item\"><div class=\"sk-estimator sk-toggleable\"><input class=\"sk-toggleable__control sk-hidden--visually\" id=\"sk-estimator-id-13\" type=\"checkbox\" ><label for=\"sk-estimator-id-13\" class=\"sk-toggleable__label sk-toggleable__label-arrow\">OrdinalEncoder</label><div class=\"sk-toggleable__content\"><pre>OrdinalEncoder(variables=[&#x27;MSZoning&#x27;, &#x27;Street&#x27;, &#x27;Alley&#x27;, &#x27;LotShape&#x27;,\n",
       "                          &#x27;LandContour&#x27;, &#x27;Utilities&#x27;, &#x27;LotConfig&#x27;, &#x27;LandSlope&#x27;,\n",
       "                          &#x27;Neighborhood&#x27;, &#x27;Condition1&#x27;, &#x27;Condition2&#x27;,\n",
       "                          &#x27;BldgType&#x27;, &#x27;HouseStyle&#x27;, &#x27;RoofStyle&#x27;, &#x27;RoofMatl&#x27;,\n",
       "                          &#x27;Exterior1st&#x27;, &#x27;Exterior2nd&#x27;, &#x27;MasVnrType&#x27;,\n",
       "                          &#x27;ExterQual&#x27;, &#x27;ExterCond&#x27;, &#x27;Foundation&#x27;, &#x27;BsmtQual&#x27;,\n",
       "                          &#x27;BsmtCond&#x27;, &#x27;BsmtExposure&#x27;, &#x27;BsmtFinType1&#x27;,\n",
       "                          &#x27;BsmtFinType2&#x27;, &#x27;Heating&#x27;, &#x27;HeatingQC&#x27;, &#x27;CentralAir&#x27;,\n",
       "                          &#x27;Electrical&#x27;, ...])</pre></div></div></div></div></div><div class=\"sk-item\"><div class=\"sk-label-container\"><div class=\"sk-label sk-toggleable\"><input class=\"sk-toggleable__control sk-hidden--visually\" id=\"sk-estimator-id-14\" type=\"checkbox\" ><label for=\"sk-estimator-id-14\" class=\"sk-toggleable__label sk-toggleable__label-arrow\">fs: Pipeline</label><div class=\"sk-toggleable__content\"><pre>Pipeline(steps=[(&#x27;drop&#x27;, DropFeatures(features_to_drop=[&#x27;Id&#x27;, &#x27;YrSold&#x27;])),\n",
       "                (&#x27;constant&#x27;, DropConstantFeatures()),\n",
       "                (&#x27;duplicates&#x27;, DropDuplicateFeatures()),\n",
       "                (&#x27;correl&#x27;,\n",
       "                 SmartCorrelatedSelection(estimator=DecisionTreeRegressor(random_state=0),\n",
       "                                          scoring=&#x27;neg_mean_squared_error&#x27;,\n",
       "                                          selection_method=&#x27;model_performance&#x27;))])</pre></div></div></div><div class=\"sk-serial\"><div class=\"sk-item\"><div class=\"sk-estimator sk-toggleable\"><input class=\"sk-toggleable__control sk-hidden--visually\" id=\"sk-estimator-id-15\" type=\"checkbox\" ><label for=\"sk-estimator-id-15\" class=\"sk-toggleable__label sk-toggleable__label-arrow\">DropFeatures</label><div class=\"sk-toggleable__content\"><pre>DropFeatures(features_to_drop=[&#x27;Id&#x27;, &#x27;YrSold&#x27;])</pre></div></div></div><div class=\"sk-item\"><div class=\"sk-estimator sk-toggleable\"><input class=\"sk-toggleable__control sk-hidden--visually\" id=\"sk-estimator-id-16\" type=\"checkbox\" ><label for=\"sk-estimator-id-16\" class=\"sk-toggleable__label sk-toggleable__label-arrow\">DropConstantFeatures</label><div class=\"sk-toggleable__content\"><pre>DropConstantFeatures()</pre></div></div></div><div class=\"sk-item\"><div class=\"sk-estimator sk-toggleable\"><input class=\"sk-toggleable__control sk-hidden--visually\" id=\"sk-estimator-id-17\" type=\"checkbox\" ><label for=\"sk-estimator-id-17\" class=\"sk-toggleable__label sk-toggleable__label-arrow\">DropDuplicateFeatures</label><div class=\"sk-toggleable__content\"><pre>DropDuplicateFeatures()</pre></div></div></div><div class=\"sk-item sk-dashed-wrapped\"><div class=\"sk-label-container\"><div class=\"sk-label sk-toggleable\"><input class=\"sk-toggleable__control sk-hidden--visually\" id=\"sk-estimator-id-18\" type=\"checkbox\" ><label for=\"sk-estimator-id-18\" class=\"sk-toggleable__label sk-toggleable__label-arrow\">correl: SmartCorrelatedSelection</label><div class=\"sk-toggleable__content\"><pre>SmartCorrelatedSelection(estimator=DecisionTreeRegressor(random_state=0),\n",
       "                         scoring=&#x27;neg_mean_squared_error&#x27;,\n",
       "                         selection_method=&#x27;model_performance&#x27;)</pre></div></div></div><div class=\"sk-parallel\"><div class=\"sk-parallel-item\"><div class=\"sk-item\"><div class=\"sk-label-container\"><div class=\"sk-label sk-toggleable\"><input class=\"sk-toggleable__control sk-hidden--visually\" id=\"sk-estimator-id-19\" type=\"checkbox\" ><label for=\"sk-estimator-id-19\" class=\"sk-toggleable__label sk-toggleable__label-arrow\">estimator: DecisionTreeRegressor</label><div class=\"sk-toggleable__content\"><pre>DecisionTreeRegressor(random_state=0)</pre></div></div></div><div class=\"sk-serial\"><div class=\"sk-item\"><div class=\"sk-estimator sk-toggleable\"><input class=\"sk-toggleable__control sk-hidden--visually\" id=\"sk-estimator-id-20\" type=\"checkbox\" ><label for=\"sk-estimator-id-20\" class=\"sk-toggleable__label sk-toggleable__label-arrow\">DecisionTreeRegressor</label><div class=\"sk-toggleable__content\"><pre>DecisionTreeRegressor(random_state=0)</pre></div></div></div></div></div></div></div></div></div></div></div></div><div class=\"sk-item\"><div class=\"sk-estimator sk-toggleable\"><input class=\"sk-toggleable__control sk-hidden--visually\" id=\"sk-estimator-id-21\" type=\"checkbox\" ><label for=\"sk-estimator-id-21\" class=\"sk-toggleable__label sk-toggleable__label-arrow\">LGBMRegressor</label><div class=\"sk-toggleable__content\"><pre>LGBMRegressor(bagging_freq=1, colsample_bytree=0.7228360502352134,\n",
       "              learning_rate=0.008898951387523906, min_data_in_leaf=2,\n",
       "              n_estimators=1000, num_leaves=12, objective=&#x27;regression&#x27;,\n",
       "              random_state=0, subsample=0.8300474397273252, verbosity=-1)</pre></div></div></div></div></div></div></div>"
      ],
      "text/plain": [
       "Pipeline(steps=[('total',\n",
       "                 Pipeline(steps=[('fc',\n",
       "                                  Pipeline(steps=[('impute_none',\n",
       "                                                   CategoricalImputer(fill_value='None',\n",
       "                                                                      ignore_format=True,\n",
       "                                                                      return_object=True,\n",
       "                                                                      variables=['Alley',\n",
       "                                                                                 'BsmtQual',\n",
       "                                                                                 'BsmtCond',\n",
       "                                                                                 'BsmtExposure',\n",
       "                                                                                 'BsmtFinType1',\n",
       "                                                                                 'BsmtFinType2',\n",
       "                                                                                 'FireplaceQu',\n",
       "                                                                                 'GarageType',\n",
       "                                                                                 'GarageFinish',\n",
       "                                                                                 'GarageQual',\n",
       "                                                                                 'GarageCond',\n",
       "                                                                                 'PoolQC',\n",
       "                                                                                 'Fence',\n",
       "                                                                                 'MiscFeature'])),\n",
       "                                                  ('impute_...\n",
       "                                                   SmartCorrelatedSelection(estimator=DecisionTreeRegressor(random_state=0),\n",
       "                                                                            scoring='neg_mean_squared_error',\n",
       "                                                                            selection_method='model_performance'))]))])),\n",
       "                ('model',\n",
       "                 LGBMRegressor(bagging_freq=1,\n",
       "                               colsample_bytree=0.7228360502352134,\n",
       "                               learning_rate=0.008898951387523906,\n",
       "                               min_data_in_leaf=2, n_estimators=1000,\n",
       "                               num_leaves=12, objective='regression',\n",
       "                               random_state=0, subsample=0.8300474397273252,\n",
       "                               verbosity=-1))])"
      ]
     },
     "execution_count": 45,
     "metadata": {},
     "output_type": "execute_result"
    }
   ],
   "source": [
    "model_pipeline"
   ]
  },
  {
   "cell_type": "code",
   "execution_count": 46,
   "id": "006475c1-9faf-40df-91f2-1f27ef560af0",
   "metadata": {
    "tags": []
   },
   "outputs": [],
   "source": [
    "X_test[impute_zero_vars+impute_from_other_vars+impute_median_vars] = X_test[impute_zero_vars+impute_from_other_vars+impute_median_vars].astype('float')\n",
    "X_test[impute_none_vars+impute_mode_vars] = X_test[impute_none_vars+impute_mode_vars].astype('object')"
   ]
  },
  {
   "cell_type": "code",
   "execution_count": 47,
   "id": "96a7fc52-dec8-42cd-afe8-c4bf4a3400d4",
   "metadata": {
    "tags": []
   },
   "outputs": [
    {
     "name": "stdout",
     "output_type": "stream",
     "text": [
      "[LightGBM] [Warning] min_data_in_leaf is set=2, min_child_samples=20 will be ignored. Current value: min_data_in_leaf=2\n",
      "[LightGBM] [Warning] bagging_freq is set=1, subsample_freq=0 will be ignored. Current value: bagging_freq=1\n"
     ]
    },
    {
     "data": {
      "text/html": [
       "<style>#sk-container-id-2 {color: black;}#sk-container-id-2 pre{padding: 0;}#sk-container-id-2 div.sk-toggleable {background-color: white;}#sk-container-id-2 label.sk-toggleable__label {cursor: pointer;display: block;width: 100%;margin-bottom: 0;padding: 0.3em;box-sizing: border-box;text-align: center;}#sk-container-id-2 label.sk-toggleable__label-arrow:before {content: \"▸\";float: left;margin-right: 0.25em;color: #696969;}#sk-container-id-2 label.sk-toggleable__label-arrow:hover:before {color: black;}#sk-container-id-2 div.sk-estimator:hover label.sk-toggleable__label-arrow:before {color: black;}#sk-container-id-2 div.sk-toggleable__content {max-height: 0;max-width: 0;overflow: hidden;text-align: left;background-color: #f0f8ff;}#sk-container-id-2 div.sk-toggleable__content pre {margin: 0.2em;color: black;border-radius: 0.25em;background-color: #f0f8ff;}#sk-container-id-2 input.sk-toggleable__control:checked~div.sk-toggleable__content {max-height: 200px;max-width: 100%;overflow: auto;}#sk-container-id-2 input.sk-toggleable__control:checked~label.sk-toggleable__label-arrow:before {content: \"▾\";}#sk-container-id-2 div.sk-estimator input.sk-toggleable__control:checked~label.sk-toggleable__label {background-color: #d4ebff;}#sk-container-id-2 div.sk-label input.sk-toggleable__control:checked~label.sk-toggleable__label {background-color: #d4ebff;}#sk-container-id-2 input.sk-hidden--visually {border: 0;clip: rect(1px 1px 1px 1px);clip: rect(1px, 1px, 1px, 1px);height: 1px;margin: -1px;overflow: hidden;padding: 0;position: absolute;width: 1px;}#sk-container-id-2 div.sk-estimator {font-family: monospace;background-color: #f0f8ff;border: 1px dotted black;border-radius: 0.25em;box-sizing: border-box;margin-bottom: 0.5em;}#sk-container-id-2 div.sk-estimator:hover {background-color: #d4ebff;}#sk-container-id-2 div.sk-parallel-item::after {content: \"\";width: 100%;border-bottom: 1px solid gray;flex-grow: 1;}#sk-container-id-2 div.sk-label:hover label.sk-toggleable__label {background-color: #d4ebff;}#sk-container-id-2 div.sk-serial::before {content: \"\";position: absolute;border-left: 1px solid gray;box-sizing: border-box;top: 0;bottom: 0;left: 50%;z-index: 0;}#sk-container-id-2 div.sk-serial {display: flex;flex-direction: column;align-items: center;background-color: white;padding-right: 0.2em;padding-left: 0.2em;position: relative;}#sk-container-id-2 div.sk-item {position: relative;z-index: 1;}#sk-container-id-2 div.sk-parallel {display: flex;align-items: stretch;justify-content: center;background-color: white;position: relative;}#sk-container-id-2 div.sk-item::before, #sk-container-id-2 div.sk-parallel-item::before {content: \"\";position: absolute;border-left: 1px solid gray;box-sizing: border-box;top: 0;bottom: 0;left: 50%;z-index: -1;}#sk-container-id-2 div.sk-parallel-item {display: flex;flex-direction: column;z-index: 1;position: relative;background-color: white;}#sk-container-id-2 div.sk-parallel-item:first-child::after {align-self: flex-end;width: 50%;}#sk-container-id-2 div.sk-parallel-item:last-child::after {align-self: flex-start;width: 50%;}#sk-container-id-2 div.sk-parallel-item:only-child::after {width: 0;}#sk-container-id-2 div.sk-dashed-wrapped {border: 1px dashed gray;margin: 0 0.4em 0.5em 0.4em;box-sizing: border-box;padding-bottom: 0.4em;background-color: white;}#sk-container-id-2 div.sk-label label {font-family: monospace;font-weight: bold;display: inline-block;line-height: 1.2em;}#sk-container-id-2 div.sk-label-container {text-align: center;}#sk-container-id-2 div.sk-container {/* jupyter's `normalize.less` sets `[hidden] { display: none; }` but bootstrap.min.css set `[hidden] { display: none !important; }` so we also need the `!important` here to be able to override the default hidden behavior on the sphinx rendered scikit-learn.org. See: https://github.com/scikit-learn/scikit-learn/issues/21755 */display: inline-block !important;position: relative;}#sk-container-id-2 div.sk-text-repr-fallback {display: none;}</style><div id=\"sk-container-id-2\" class=\"sk-top-container\"><div class=\"sk-text-repr-fallback\"><pre>Pipeline(steps=[(&#x27;total&#x27;,\n",
       "                 Pipeline(steps=[(&#x27;fc&#x27;,\n",
       "                                  Pipeline(steps=[(&#x27;impute_none&#x27;,\n",
       "                                                   CategoricalImputer(fill_value=&#x27;None&#x27;,\n",
       "                                                                      ignore_format=True,\n",
       "                                                                      return_object=True,\n",
       "                                                                      variables=[&#x27;Alley&#x27;,\n",
       "                                                                                 &#x27;BsmtQual&#x27;,\n",
       "                                                                                 &#x27;BsmtCond&#x27;,\n",
       "                                                                                 &#x27;BsmtExposure&#x27;,\n",
       "                                                                                 &#x27;BsmtFinType1&#x27;,\n",
       "                                                                                 &#x27;BsmtFinType2&#x27;,\n",
       "                                                                                 &#x27;FireplaceQu&#x27;,\n",
       "                                                                                 &#x27;GarageType&#x27;,\n",
       "                                                                                 &#x27;GarageFinish&#x27;,\n",
       "                                                                                 &#x27;GarageQual&#x27;,\n",
       "                                                                                 &#x27;GarageCond&#x27;,\n",
       "                                                                                 &#x27;PoolQC&#x27;,\n",
       "                                                                                 &#x27;Fence&#x27;,\n",
       "                                                                                 &#x27;MiscFeature&#x27;])),\n",
       "                                                  (&#x27;impute_...\n",
       "                                                   SmartCorrelatedSelection(estimator=DecisionTreeRegressor(random_state=0),\n",
       "                                                                            scoring=&#x27;neg_mean_squared_error&#x27;,\n",
       "                                                                            selection_method=&#x27;model_performance&#x27;))]))])),\n",
       "                (&#x27;model&#x27;,\n",
       "                 LGBMRegressor(bagging_freq=1,\n",
       "                               colsample_bytree=0.7228360502352134,\n",
       "                               learning_rate=0.008898951387523906,\n",
       "                               min_data_in_leaf=2, n_estimators=1000,\n",
       "                               num_leaves=12, objective=&#x27;regression&#x27;,\n",
       "                               random_state=0, subsample=0.8300474397273252,\n",
       "                               verbosity=-1))])</pre><b>In a Jupyter environment, please rerun this cell to show the HTML representation or trust the notebook. <br />On GitHub, the HTML representation is unable to render, please try loading this page with nbviewer.org.</b></div><div class=\"sk-container\" hidden><div class=\"sk-item sk-dashed-wrapped\"><div class=\"sk-label-container\"><div class=\"sk-label sk-toggleable\"><input class=\"sk-toggleable__control sk-hidden--visually\" id=\"sk-estimator-id-22\" type=\"checkbox\" ><label for=\"sk-estimator-id-22\" class=\"sk-toggleable__label sk-toggleable__label-arrow\">Pipeline</label><div class=\"sk-toggleable__content\"><pre>Pipeline(steps=[(&#x27;total&#x27;,\n",
       "                 Pipeline(steps=[(&#x27;fc&#x27;,\n",
       "                                  Pipeline(steps=[(&#x27;impute_none&#x27;,\n",
       "                                                   CategoricalImputer(fill_value=&#x27;None&#x27;,\n",
       "                                                                      ignore_format=True,\n",
       "                                                                      return_object=True,\n",
       "                                                                      variables=[&#x27;Alley&#x27;,\n",
       "                                                                                 &#x27;BsmtQual&#x27;,\n",
       "                                                                                 &#x27;BsmtCond&#x27;,\n",
       "                                                                                 &#x27;BsmtExposure&#x27;,\n",
       "                                                                                 &#x27;BsmtFinType1&#x27;,\n",
       "                                                                                 &#x27;BsmtFinType2&#x27;,\n",
       "                                                                                 &#x27;FireplaceQu&#x27;,\n",
       "                                                                                 &#x27;GarageType&#x27;,\n",
       "                                                                                 &#x27;GarageFinish&#x27;,\n",
       "                                                                                 &#x27;GarageQual&#x27;,\n",
       "                                                                                 &#x27;GarageCond&#x27;,\n",
       "                                                                                 &#x27;PoolQC&#x27;,\n",
       "                                                                                 &#x27;Fence&#x27;,\n",
       "                                                                                 &#x27;MiscFeature&#x27;])),\n",
       "                                                  (&#x27;impute_...\n",
       "                                                   SmartCorrelatedSelection(estimator=DecisionTreeRegressor(random_state=0),\n",
       "                                                                            scoring=&#x27;neg_mean_squared_error&#x27;,\n",
       "                                                                            selection_method=&#x27;model_performance&#x27;))]))])),\n",
       "                (&#x27;model&#x27;,\n",
       "                 LGBMRegressor(bagging_freq=1,\n",
       "                               colsample_bytree=0.7228360502352134,\n",
       "                               learning_rate=0.008898951387523906,\n",
       "                               min_data_in_leaf=2, n_estimators=1000,\n",
       "                               num_leaves=12, objective=&#x27;regression&#x27;,\n",
       "                               random_state=0, subsample=0.8300474397273252,\n",
       "                               verbosity=-1))])</pre></div></div></div><div class=\"sk-serial\"><div class=\"sk-item\"><div class=\"sk-label-container\"><div class=\"sk-label sk-toggleable\"><input class=\"sk-toggleable__control sk-hidden--visually\" id=\"sk-estimator-id-23\" type=\"checkbox\" ><label for=\"sk-estimator-id-23\" class=\"sk-toggleable__label sk-toggleable__label-arrow\">total: Pipeline</label><div class=\"sk-toggleable__content\"><pre>Pipeline(steps=[(&#x27;fc&#x27;,\n",
       "                 Pipeline(steps=[(&#x27;impute_none&#x27;,\n",
       "                                  CategoricalImputer(fill_value=&#x27;None&#x27;,\n",
       "                                                     ignore_format=True,\n",
       "                                                     return_object=True,\n",
       "                                                     variables=[&#x27;Alley&#x27;,\n",
       "                                                                &#x27;BsmtQual&#x27;,\n",
       "                                                                &#x27;BsmtCond&#x27;,\n",
       "                                                                &#x27;BsmtExposure&#x27;,\n",
       "                                                                &#x27;BsmtFinType1&#x27;,\n",
       "                                                                &#x27;BsmtFinType2&#x27;,\n",
       "                                                                &#x27;FireplaceQu&#x27;,\n",
       "                                                                &#x27;GarageType&#x27;,\n",
       "                                                                &#x27;GarageFinish&#x27;,\n",
       "                                                                &#x27;GarageQual&#x27;,\n",
       "                                                                &#x27;GarageCond&#x27;,\n",
       "                                                                &#x27;PoolQC&#x27;,\n",
       "                                                                &#x27;Fence&#x27;,\n",
       "                                                                &#x27;MiscFeature&#x27;])),\n",
       "                                 (&#x27;impute_missing&#x27;,\n",
       "                                  CategoricalImput...\n",
       "                                                            &#x27;HeatingQC&#x27;,\n",
       "                                                            &#x27;CentralAir&#x27;,\n",
       "                                                            &#x27;Electrical&#x27;, ...]))])),\n",
       "                (&#x27;fs&#x27;,\n",
       "                 Pipeline(steps=[(&#x27;drop&#x27;,\n",
       "                                  DropFeatures(features_to_drop=[&#x27;Id&#x27;,\n",
       "                                                                 &#x27;YrSold&#x27;])),\n",
       "                                 (&#x27;constant&#x27;, DropConstantFeatures()),\n",
       "                                 (&#x27;duplicates&#x27;, DropDuplicateFeatures()),\n",
       "                                 (&#x27;correl&#x27;,\n",
       "                                  SmartCorrelatedSelection(estimator=DecisionTreeRegressor(random_state=0),\n",
       "                                                           scoring=&#x27;neg_mean_squared_error&#x27;,\n",
       "                                                           selection_method=&#x27;model_performance&#x27;))]))])</pre></div></div></div><div class=\"sk-serial\"><div class=\"sk-item\"><div class=\"sk-label-container\"><div class=\"sk-label sk-toggleable\"><input class=\"sk-toggleable__control sk-hidden--visually\" id=\"sk-estimator-id-24\" type=\"checkbox\" ><label for=\"sk-estimator-id-24\" class=\"sk-toggleable__label sk-toggleable__label-arrow\">fc: Pipeline</label><div class=\"sk-toggleable__content\"><pre>Pipeline(steps=[(&#x27;impute_none&#x27;,\n",
       "                 CategoricalImputer(fill_value=&#x27;None&#x27;, ignore_format=True,\n",
       "                                    return_object=True,\n",
       "                                    variables=[&#x27;Alley&#x27;, &#x27;BsmtQual&#x27;, &#x27;BsmtCond&#x27;,\n",
       "                                               &#x27;BsmtExposure&#x27;, &#x27;BsmtFinType1&#x27;,\n",
       "                                               &#x27;BsmtFinType2&#x27;, &#x27;FireplaceQu&#x27;,\n",
       "                                               &#x27;GarageType&#x27;, &#x27;GarageFinish&#x27;,\n",
       "                                               &#x27;GarageQual&#x27;, &#x27;GarageCond&#x27;,\n",
       "                                               &#x27;PoolQC&#x27;, &#x27;Fence&#x27;,\n",
       "                                               &#x27;MiscFeature&#x27;])),\n",
       "                (&#x27;impute_missing&#x27;,\n",
       "                 CategoricalImputer(ignore_format=True,...\n",
       "                                              &#x27;BsmtFullBath&#x27;, &#x27;BsmtHalfBath&#x27;,\n",
       "                                              &#x27;FullBath&#x27;, &#x27;HalfBath&#x27;,\n",
       "                                              &#x27;BedroomAbvGr&#x27;, &#x27;KitchenAbvGr&#x27;,\n",
       "                                              &#x27;TotRmsAbvGrd&#x27;, &#x27;Fireplaces&#x27;,\n",
       "                                              &#x27;GarageCars&#x27;, &#x27;GarageArea&#x27;,\n",
       "                                              &#x27;WoodDeckSF&#x27;, &#x27;OpenPorchSF&#x27;,\n",
       "                                              &#x27;EnclosedPorch&#x27;, &#x27;3SsnPorch&#x27;,\n",
       "                                              &#x27;ScreenPorch&#x27;, &#x27;PoolArea&#x27;, ...])),\n",
       "                (&#x27;impute_from_other_vars&#x27;,\n",
       "                 UseOtherColumnsImputer(references=[&#x27;YearBuilt&#x27;],\n",
       "                                        variables=[&#x27;GarageYrBlt&#x27;])),\n",
       "                (&#x27;create&#x27;, FeatureCreator())])</pre></div></div></div><div class=\"sk-serial\"><div class=\"sk-item\"><div class=\"sk-estimator sk-toggleable\"><input class=\"sk-toggleable__control sk-hidden--visually\" id=\"sk-estimator-id-25\" type=\"checkbox\" ><label for=\"sk-estimator-id-25\" class=\"sk-toggleable__label sk-toggleable__label-arrow\">CategoricalImputer</label><div class=\"sk-toggleable__content\"><pre>CategoricalImputer(fill_value=&#x27;None&#x27;, ignore_format=True, return_object=True,\n",
       "                   variables=[&#x27;Alley&#x27;, &#x27;BsmtQual&#x27;, &#x27;BsmtCond&#x27;, &#x27;BsmtExposure&#x27;,\n",
       "                              &#x27;BsmtFinType1&#x27;, &#x27;BsmtFinType2&#x27;, &#x27;FireplaceQu&#x27;,\n",
       "                              &#x27;GarageType&#x27;, &#x27;GarageFinish&#x27;, &#x27;GarageQual&#x27;,\n",
       "                              &#x27;GarageCond&#x27;, &#x27;PoolQC&#x27;, &#x27;Fence&#x27;, &#x27;MiscFeature&#x27;])</pre></div></div></div><div class=\"sk-item\"><div class=\"sk-estimator sk-toggleable\"><input class=\"sk-toggleable__control sk-hidden--visually\" id=\"sk-estimator-id-26\" type=\"checkbox\" ><label for=\"sk-estimator-id-26\" class=\"sk-toggleable__label sk-toggleable__label-arrow\">CategoricalImputer</label><div class=\"sk-toggleable__content\"><pre>CategoricalImputer(ignore_format=True, return_object=True,\n",
       "                   variables=[&#x27;MSZoning&#x27;, &#x27;Street&#x27;, &#x27;LotShape&#x27;, &#x27;LandContour&#x27;,\n",
       "                              &#x27;Utilities&#x27;, &#x27;LotConfig&#x27;, &#x27;LandSlope&#x27;,\n",
       "                              &#x27;Neighborhood&#x27;, &#x27;Condition1&#x27;, &#x27;Condition2&#x27;,\n",
       "                              &#x27;BldgType&#x27;, &#x27;HouseStyle&#x27;, &#x27;RoofStyle&#x27;, &#x27;RoofMatl&#x27;,\n",
       "                              &#x27;Exterior1st&#x27;, &#x27;Exterior2nd&#x27;, &#x27;MasVnrType&#x27;,\n",
       "                              &#x27;ExterQual&#x27;, &#x27;ExterCond&#x27;, &#x27;Foundation&#x27;, &#x27;Heating&#x27;,\n",
       "                              &#x27;HeatingQC&#x27;, &#x27;CentralAir&#x27;, &#x27;Electrical&#x27;,\n",
       "                              &#x27;KitchenQual&#x27;, &#x27;Functional&#x27;, &#x27;PavedDrive&#x27;,\n",
       "                              &#x27;SaleType&#x27;, &#x27;SaleCondition&#x27;, &#x27;MSSubClass&#x27;, ...])</pre></div></div></div><div class=\"sk-item\"><div class=\"sk-estimator sk-toggleable\"><input class=\"sk-toggleable__control sk-hidden--visually\" id=\"sk-estimator-id-27\" type=\"checkbox\" ><label for=\"sk-estimator-id-27\" class=\"sk-toggleable__label sk-toggleable__label-arrow\">ArbitraryNumberImputer</label><div class=\"sk-toggleable__content\"><pre>ArbitraryNumberImputer(arbitrary_number=0, variables=[&#x27;MasVnrArea&#x27;])</pre></div></div></div><div class=\"sk-item\"><div class=\"sk-estimator sk-toggleable\"><input class=\"sk-toggleable__control sk-hidden--visually\" id=\"sk-estimator-id-28\" type=\"checkbox\" ><label for=\"sk-estimator-id-28\" class=\"sk-toggleable__label sk-toggleable__label-arrow\">MeanMedianImputer</label><div class=\"sk-toggleable__content\"><pre>MeanMedianImputer(variables=[&#x27;LotFrontage&#x27;, &#x27;LotArea&#x27;, &#x27;OverallQual&#x27;,\n",
       "                             &#x27;OverallCond&#x27;, &#x27;YearBuilt&#x27;, &#x27;YearRemodAdd&#x27;,\n",
       "                             &#x27;BsmtFinSF1&#x27;, &#x27;BsmtFinSF2&#x27;, &#x27;BsmtUnfSF&#x27;,\n",
       "                             &#x27;TotalBsmtSF&#x27;, &#x27;1stFlrSF&#x27;, &#x27;2ndFlrSF&#x27;,\n",
       "                             &#x27;LowQualFinSF&#x27;, &#x27;GrLivArea&#x27;, &#x27;BsmtFullBath&#x27;,\n",
       "                             &#x27;BsmtHalfBath&#x27;, &#x27;FullBath&#x27;, &#x27;HalfBath&#x27;,\n",
       "                             &#x27;BedroomAbvGr&#x27;, &#x27;KitchenAbvGr&#x27;, &#x27;TotRmsAbvGrd&#x27;,\n",
       "                             &#x27;Fireplaces&#x27;, &#x27;GarageCars&#x27;, &#x27;GarageArea&#x27;,\n",
       "                             &#x27;WoodDeckSF&#x27;, &#x27;OpenPorchSF&#x27;, &#x27;EnclosedPorch&#x27;,\n",
       "                             &#x27;3SsnPorch&#x27;, &#x27;ScreenPorch&#x27;, &#x27;PoolArea&#x27;, ...])</pre></div></div></div><div class=\"sk-item\"><div class=\"sk-estimator sk-toggleable\"><input class=\"sk-toggleable__control sk-hidden--visually\" id=\"sk-estimator-id-29\" type=\"checkbox\" ><label for=\"sk-estimator-id-29\" class=\"sk-toggleable__label sk-toggleable__label-arrow\">UseOtherColumnsImputer</label><div class=\"sk-toggleable__content\"><pre>UseOtherColumnsImputer(references=[&#x27;YearBuilt&#x27;], variables=[&#x27;GarageYrBlt&#x27;])</pre></div></div></div><div class=\"sk-item\"><div class=\"sk-estimator sk-toggleable\"><input class=\"sk-toggleable__control sk-hidden--visually\" id=\"sk-estimator-id-30\" type=\"checkbox\" ><label for=\"sk-estimator-id-30\" class=\"sk-toggleable__label sk-toggleable__label-arrow\">FeatureCreator</label><div class=\"sk-toggleable__content\"><pre>FeatureCreator()</pre></div></div></div></div></div><div class=\"sk-item\"><div class=\"sk-label-container\"><div class=\"sk-label sk-toggleable\"><input class=\"sk-toggleable__control sk-hidden--visually\" id=\"sk-estimator-id-31\" type=\"checkbox\" ><label for=\"sk-estimator-id-31\" class=\"sk-toggleable__label sk-toggleable__label-arrow\">dt: Pipeline</label><div class=\"sk-toggleable__content\"><pre>Pipeline(steps=[(&#x27;binariser&#x27;,\n",
       "                 Binariser(variables=[&#x27;BsmtFinSF2&#x27;, &#x27;LowQualFinSF&#x27;,\n",
       "                                      &#x27;EnclosedPorch&#x27;, &#x27;ScreenPorch&#x27;,\n",
       "                                      &#x27;MiscVal&#x27;])),\n",
       "                (&#x27;rare_encoder&#x27;,\n",
       "                 RareLabelEncoder(ignore_format=True, n_categories=1,\n",
       "                                  variables=[&#x27;MSZoning&#x27;, &#x27;Street&#x27;, &#x27;Alley&#x27;,\n",
       "                                             &#x27;LotShape&#x27;, &#x27;LandContour&#x27;,\n",
       "                                             &#x27;Utilities&#x27;, &#x27;LotConfig&#x27;,\n",
       "                                             &#x27;LandSlope&#x27;, &#x27;Neighborhood&#x27;,\n",
       "                                             &#x27;Condition1&#x27;, &#x27;Condition2&#x27;,\n",
       "                                             &#x27;BldgType&#x27;, &#x27;HouseStyl...\n",
       "                                           &#x27;LotShape&#x27;, &#x27;LandContour&#x27;,\n",
       "                                           &#x27;Utilities&#x27;, &#x27;LotConfig&#x27;,\n",
       "                                           &#x27;LandSlope&#x27;, &#x27;Neighborhood&#x27;,\n",
       "                                           &#x27;Condition1&#x27;, &#x27;Condition2&#x27;,\n",
       "                                           &#x27;BldgType&#x27;, &#x27;HouseStyle&#x27;,\n",
       "                                           &#x27;RoofStyle&#x27;, &#x27;RoofMatl&#x27;,\n",
       "                                           &#x27;Exterior1st&#x27;, &#x27;Exterior2nd&#x27;,\n",
       "                                           &#x27;MasVnrType&#x27;, &#x27;ExterQual&#x27;,\n",
       "                                           &#x27;ExterCond&#x27;, &#x27;Foundation&#x27;,\n",
       "                                           &#x27;BsmtQual&#x27;, &#x27;BsmtCond&#x27;,\n",
       "                                           &#x27;BsmtExposure&#x27;, &#x27;BsmtFinType1&#x27;,\n",
       "                                           &#x27;BsmtFinType2&#x27;, &#x27;Heating&#x27;,\n",
       "                                           &#x27;HeatingQC&#x27;, &#x27;CentralAir&#x27;,\n",
       "                                           &#x27;Electrical&#x27;, ...]))])</pre></div></div></div><div class=\"sk-serial\"><div class=\"sk-item\"><div class=\"sk-estimator sk-toggleable\"><input class=\"sk-toggleable__control sk-hidden--visually\" id=\"sk-estimator-id-32\" type=\"checkbox\" ><label for=\"sk-estimator-id-32\" class=\"sk-toggleable__label sk-toggleable__label-arrow\">Binariser</label><div class=\"sk-toggleable__content\"><pre>Binariser(variables=[&#x27;BsmtFinSF2&#x27;, &#x27;LowQualFinSF&#x27;, &#x27;EnclosedPorch&#x27;,\n",
       "                     &#x27;ScreenPorch&#x27;, &#x27;MiscVal&#x27;])</pre></div></div></div><div class=\"sk-item\"><div class=\"sk-estimator sk-toggleable\"><input class=\"sk-toggleable__control sk-hidden--visually\" id=\"sk-estimator-id-33\" type=\"checkbox\" ><label for=\"sk-estimator-id-33\" class=\"sk-toggleable__label sk-toggleable__label-arrow\">RareLabelEncoder</label><div class=\"sk-toggleable__content\"><pre>RareLabelEncoder(ignore_format=True, n_categories=1,\n",
       "                 variables=[&#x27;MSZoning&#x27;, &#x27;Street&#x27;, &#x27;Alley&#x27;, &#x27;LotShape&#x27;,\n",
       "                            &#x27;LandContour&#x27;, &#x27;Utilities&#x27;, &#x27;LotConfig&#x27;,\n",
       "                            &#x27;LandSlope&#x27;, &#x27;Neighborhood&#x27;, &#x27;Condition1&#x27;,\n",
       "                            &#x27;Condition2&#x27;, &#x27;BldgType&#x27;, &#x27;HouseStyle&#x27;, &#x27;RoofStyle&#x27;,\n",
       "                            &#x27;RoofMatl&#x27;, &#x27;Exterior1st&#x27;, &#x27;Exterior2nd&#x27;,\n",
       "                            &#x27;MasVnrType&#x27;, &#x27;ExterQual&#x27;, &#x27;ExterCond&#x27;,\n",
       "                            &#x27;Foundation&#x27;, &#x27;BsmtQual&#x27;, &#x27;BsmtCond&#x27;,\n",
       "                            &#x27;BsmtExposure&#x27;, &#x27;BsmtFinType1&#x27;, &#x27;BsmtFinType2&#x27;,\n",
       "                            &#x27;Heating&#x27;, &#x27;HeatingQC&#x27;, &#x27;CentralAir&#x27;, &#x27;Electrical&#x27;, ...])</pre></div></div></div><div class=\"sk-item\"><div class=\"sk-estimator sk-toggleable\"><input class=\"sk-toggleable__control sk-hidden--visually\" id=\"sk-estimator-id-34\" type=\"checkbox\" ><label for=\"sk-estimator-id-34\" class=\"sk-toggleable__label sk-toggleable__label-arrow\">OrdinalEncoder</label><div class=\"sk-toggleable__content\"><pre>OrdinalEncoder(variables=[&#x27;MSZoning&#x27;, &#x27;Street&#x27;, &#x27;Alley&#x27;, &#x27;LotShape&#x27;,\n",
       "                          &#x27;LandContour&#x27;, &#x27;Utilities&#x27;, &#x27;LotConfig&#x27;, &#x27;LandSlope&#x27;,\n",
       "                          &#x27;Neighborhood&#x27;, &#x27;Condition1&#x27;, &#x27;Condition2&#x27;,\n",
       "                          &#x27;BldgType&#x27;, &#x27;HouseStyle&#x27;, &#x27;RoofStyle&#x27;, &#x27;RoofMatl&#x27;,\n",
       "                          &#x27;Exterior1st&#x27;, &#x27;Exterior2nd&#x27;, &#x27;MasVnrType&#x27;,\n",
       "                          &#x27;ExterQual&#x27;, &#x27;ExterCond&#x27;, &#x27;Foundation&#x27;, &#x27;BsmtQual&#x27;,\n",
       "                          &#x27;BsmtCond&#x27;, &#x27;BsmtExposure&#x27;, &#x27;BsmtFinType1&#x27;,\n",
       "                          &#x27;BsmtFinType2&#x27;, &#x27;Heating&#x27;, &#x27;HeatingQC&#x27;, &#x27;CentralAir&#x27;,\n",
       "                          &#x27;Electrical&#x27;, ...])</pre></div></div></div></div></div><div class=\"sk-item\"><div class=\"sk-label-container\"><div class=\"sk-label sk-toggleable\"><input class=\"sk-toggleable__control sk-hidden--visually\" id=\"sk-estimator-id-35\" type=\"checkbox\" ><label for=\"sk-estimator-id-35\" class=\"sk-toggleable__label sk-toggleable__label-arrow\">fs: Pipeline</label><div class=\"sk-toggleable__content\"><pre>Pipeline(steps=[(&#x27;drop&#x27;, DropFeatures(features_to_drop=[&#x27;Id&#x27;, &#x27;YrSold&#x27;])),\n",
       "                (&#x27;constant&#x27;, DropConstantFeatures()),\n",
       "                (&#x27;duplicates&#x27;, DropDuplicateFeatures()),\n",
       "                (&#x27;correl&#x27;,\n",
       "                 SmartCorrelatedSelection(estimator=DecisionTreeRegressor(random_state=0),\n",
       "                                          scoring=&#x27;neg_mean_squared_error&#x27;,\n",
       "                                          selection_method=&#x27;model_performance&#x27;))])</pre></div></div></div><div class=\"sk-serial\"><div class=\"sk-item\"><div class=\"sk-estimator sk-toggleable\"><input class=\"sk-toggleable__control sk-hidden--visually\" id=\"sk-estimator-id-36\" type=\"checkbox\" ><label for=\"sk-estimator-id-36\" class=\"sk-toggleable__label sk-toggleable__label-arrow\">DropFeatures</label><div class=\"sk-toggleable__content\"><pre>DropFeatures(features_to_drop=[&#x27;Id&#x27;, &#x27;YrSold&#x27;])</pre></div></div></div><div class=\"sk-item\"><div class=\"sk-estimator sk-toggleable\"><input class=\"sk-toggleable__control sk-hidden--visually\" id=\"sk-estimator-id-37\" type=\"checkbox\" ><label for=\"sk-estimator-id-37\" class=\"sk-toggleable__label sk-toggleable__label-arrow\">DropConstantFeatures</label><div class=\"sk-toggleable__content\"><pre>DropConstantFeatures()</pre></div></div></div><div class=\"sk-item\"><div class=\"sk-estimator sk-toggleable\"><input class=\"sk-toggleable__control sk-hidden--visually\" id=\"sk-estimator-id-38\" type=\"checkbox\" ><label for=\"sk-estimator-id-38\" class=\"sk-toggleable__label sk-toggleable__label-arrow\">DropDuplicateFeatures</label><div class=\"sk-toggleable__content\"><pre>DropDuplicateFeatures()</pre></div></div></div><div class=\"sk-item sk-dashed-wrapped\"><div class=\"sk-label-container\"><div class=\"sk-label sk-toggleable\"><input class=\"sk-toggleable__control sk-hidden--visually\" id=\"sk-estimator-id-39\" type=\"checkbox\" ><label for=\"sk-estimator-id-39\" class=\"sk-toggleable__label sk-toggleable__label-arrow\">correl: SmartCorrelatedSelection</label><div class=\"sk-toggleable__content\"><pre>SmartCorrelatedSelection(estimator=DecisionTreeRegressor(random_state=0),\n",
       "                         scoring=&#x27;neg_mean_squared_error&#x27;,\n",
       "                         selection_method=&#x27;model_performance&#x27;)</pre></div></div></div><div class=\"sk-parallel\"><div class=\"sk-parallel-item\"><div class=\"sk-item\"><div class=\"sk-label-container\"><div class=\"sk-label sk-toggleable\"><input class=\"sk-toggleable__control sk-hidden--visually\" id=\"sk-estimator-id-40\" type=\"checkbox\" ><label for=\"sk-estimator-id-40\" class=\"sk-toggleable__label sk-toggleable__label-arrow\">estimator: DecisionTreeRegressor</label><div class=\"sk-toggleable__content\"><pre>DecisionTreeRegressor(random_state=0)</pre></div></div></div><div class=\"sk-serial\"><div class=\"sk-item\"><div class=\"sk-estimator sk-toggleable\"><input class=\"sk-toggleable__control sk-hidden--visually\" id=\"sk-estimator-id-41\" type=\"checkbox\" ><label for=\"sk-estimator-id-41\" class=\"sk-toggleable__label sk-toggleable__label-arrow\">DecisionTreeRegressor</label><div class=\"sk-toggleable__content\"><pre>DecisionTreeRegressor(random_state=0)</pre></div></div></div></div></div></div></div></div></div></div></div></div><div class=\"sk-item\"><div class=\"sk-estimator sk-toggleable\"><input class=\"sk-toggleable__control sk-hidden--visually\" id=\"sk-estimator-id-42\" type=\"checkbox\" ><label for=\"sk-estimator-id-42\" class=\"sk-toggleable__label sk-toggleable__label-arrow\">LGBMRegressor</label><div class=\"sk-toggleable__content\"><pre>LGBMRegressor(bagging_freq=1, colsample_bytree=0.7228360502352134,\n",
       "              learning_rate=0.008898951387523906, min_data_in_leaf=2,\n",
       "              n_estimators=1000, num_leaves=12, objective=&#x27;regression&#x27;,\n",
       "              random_state=0, subsample=0.8300474397273252, verbosity=-1)</pre></div></div></div></div></div></div></div>"
      ],
      "text/plain": [
       "Pipeline(steps=[('total',\n",
       "                 Pipeline(steps=[('fc',\n",
       "                                  Pipeline(steps=[('impute_none',\n",
       "                                                   CategoricalImputer(fill_value='None',\n",
       "                                                                      ignore_format=True,\n",
       "                                                                      return_object=True,\n",
       "                                                                      variables=['Alley',\n",
       "                                                                                 'BsmtQual',\n",
       "                                                                                 'BsmtCond',\n",
       "                                                                                 'BsmtExposure',\n",
       "                                                                                 'BsmtFinType1',\n",
       "                                                                                 'BsmtFinType2',\n",
       "                                                                                 'FireplaceQu',\n",
       "                                                                                 'GarageType',\n",
       "                                                                                 'GarageFinish',\n",
       "                                                                                 'GarageQual',\n",
       "                                                                                 'GarageCond',\n",
       "                                                                                 'PoolQC',\n",
       "                                                                                 'Fence',\n",
       "                                                                                 'MiscFeature'])),\n",
       "                                                  ('impute_...\n",
       "                                                   SmartCorrelatedSelection(estimator=DecisionTreeRegressor(random_state=0),\n",
       "                                                                            scoring='neg_mean_squared_error',\n",
       "                                                                            selection_method='model_performance'))]))])),\n",
       "                ('model',\n",
       "                 LGBMRegressor(bagging_freq=1,\n",
       "                               colsample_bytree=0.7228360502352134,\n",
       "                               learning_rate=0.008898951387523906,\n",
       "                               min_data_in_leaf=2, n_estimators=1000,\n",
       "                               num_leaves=12, objective='regression',\n",
       "                               random_state=0, subsample=0.8300474397273252,\n",
       "                               verbosity=-1))])"
      ]
     },
     "execution_count": 47,
     "metadata": {},
     "output_type": "execute_result"
    }
   ],
   "source": [
    "model_pipeline.fit(X_train, np.log(1+y_train))"
   ]
  },
  {
   "cell_type": "code",
   "execution_count": 48,
   "id": "9a24083b-7201-47f8-b38f-8c5701b70a62",
   "metadata": {},
   "outputs": [],
   "source": [
    "y_pred = model_pipeline.predict(X_test)"
   ]
  },
  {
   "cell_type": "code",
   "execution_count": 49,
   "id": "136e32e0-2067-448c-9fa4-0b695560c34b",
   "metadata": {},
   "outputs": [
    {
     "data": {
      "text/plain": [
       "0.11611235328395171"
      ]
     },
     "execution_count": 49,
     "metadata": {},
     "output_type": "execute_result"
    }
   ],
   "source": [
    "# test performance according to kaggle metric\n",
    "np.sqrt(mean_squared_error(np.log(1+y_test), y_pred))"
   ]
  },
  {
   "cell_type": "code",
   "execution_count": 50,
   "id": "0d23f35e-3d8f-4e05-b63f-4be27977e5b3",
   "metadata": {},
   "outputs": [
    {
     "data": {
      "text/plain": [
       "34364.03935759033"
      ]
     },
     "execution_count": 50,
     "metadata": {},
     "output_type": "execute_result"
    }
   ],
   "source": [
    "# test rmse\n",
    "np.sqrt(mean_squared_error(y_test, np.exp(y_pred)-1))"
   ]
  },
  {
   "cell_type": "markdown",
   "id": "ec7a4c21-5761-4574-a9c1-8e8974e16b46",
   "metadata": {},
   "source": [
    "For Kaggle"
   ]
  },
  {
   "cell_type": "code",
   "execution_count": 51,
   "id": "ec4528ff-48f3-41dd-a623-383f1ad5fa67",
   "metadata": {},
   "outputs": [],
   "source": [
    "X_holdout = pd.read_csv('../data/test.csv', index_col=False)"
   ]
  },
  {
   "cell_type": "code",
   "execution_count": 52,
   "id": "7df2ffab-9302-4d6c-804f-e93f775d9c4f",
   "metadata": {},
   "outputs": [],
   "source": [
    "y_holdout_pred = model_pipeline.predict(X_holdout)"
   ]
  },
  {
   "cell_type": "code",
   "execution_count": 55,
   "id": "d3dc6f46-c0ab-42d0-a9e7-b5a9f87b911f",
   "metadata": {},
   "outputs": [],
   "source": [
    "pd.concat([X_holdout['Id'], pd.DataFrame({'SalePrice': np.exp(y_holdout_pred)-1})], axis=1).to_csv('kaggle_submission_5.csv', index=False)"
   ]
  }
 ],
 "metadata": {
  "kernelspec": {
   "display_name": "Python (ames-regression)",
   "language": "python",
   "name": "ames-regression"
  },
  "language_info": {
   "codemirror_mode": {
    "name": "ipython",
    "version": 3
   },
   "file_extension": ".py",
   "mimetype": "text/x-python",
   "name": "python",
   "nbconvert_exporter": "python",
   "pygments_lexer": "ipython3",
   "version": "3.11.4"
  }
 },
 "nbformat": 4,
 "nbformat_minor": 5
}
